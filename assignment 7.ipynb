{
 "cells": [
  {
   "cell_type": "markdown",
   "id": "c9e9ff6b",
   "metadata": {},
   "source": [
    "# Q.1. Create two int type variables, apply addition, subtraction, division and multiplications\n",
    " and store the results in variables. Then print the data in the following format by calling the\n",
    " variables:\n",
    " \n",
    " First variable is __ & second variable is __.\n",
    " \n",
    " Addition: __ + __ = __\n",
    " \n",
    " Subtraction: __ - __ = __\n",
    " \n",
    " Multiplication: __ * __ = __\n",
    " \n",
    " Division: __ / __ = __"
   ]
  },
  {
   "cell_type": "code",
   "execution_count": 3,
   "id": "b6e754d1",
   "metadata": {},
   "outputs": [
    {
     "name": "stdout",
     "output_type": "stream",
     "text": [
      "First variable is 10 & second variable is 5.\n",
      "Addition: 10 + 5 = 15\n",
      "Subtraction: 10 - 5 = 5\n",
      "Multiplication: 10 * 5 = 50\n",
      "Division: 10 / 5 = 2.0\n"
     ]
    }
   ],
   "source": [
    "# Create two int variables\n",
    "num1 = 10\n",
    "num2 = 5\n",
    "\n",
    "# Perform arithmetic operations and store the results\n",
    "addition = num1 + num2\n",
    "subtraction = num1 - num2\n",
    "multiplication = num1 * num2\n",
    "division = num1 / num2\n",
    "\n",
    "# Print the data in the specified format\n",
    "\n",
    "print(f\"First variable is {num1} & second variable is {num2}.\")\n",
    "print(f\"Addition: {num1} + {num2} = {addition}\")\n",
    "print(f\"Subtraction: {num1} - {num2} = {subtraction}\")\n",
    "print(f\"Multiplication: {num1} * {num2} = {multiplication}\")\n",
    "print(f\"Division: {num1} / {num2} = {division}\")\n",
    "\n"
   ]
  },
  {
   "cell_type": "markdown",
   "id": "8b9e899d",
   "metadata": {},
   "source": [
    "# Q.2. List the logical operators."
   ]
  },
  {
   "cell_type": "markdown",
   "id": "4de6cef8",
   "metadata": {},
   "source": [
    "ans. The logical operators in Python are used to perform logical operations on boolean values or expressions. Here are the three logical operators in Python:\n",
    "\n",
    "AND operator (and): The and operator returns True if both operands are True, and False otherwise.\n",
    "\n",
    "Example:\n",
    "\n",
    " x = True\n",
    " \n",
    " y = False\n",
    " \n",
    " print(x and y)  # Output: False"
   ]
  },
  {
   "cell_type": "markdown",
   "id": "497bfa44",
   "metadata": {},
   "source": [
    "OR operator (or): The or operator returns True if at least one of the operands is True, and False if both operands are False.\n",
    "Example:\n",
    "    \n",
    "x = True\n",
    "\n",
    "y = False\n",
    "\n",
    "print(x or y)  # Output: True"
   ]
  },
  {
   "cell_type": "markdown",
   "id": "bfa2e608",
   "metadata": {},
   "source": [
    "NOT operator (not): The not operator is a unary operator that negates the value of a boolean expression. It returns True if the expression is False, and False if the expression is True.\n",
    "Example:\n",
    "\n",
    "x = True\n",
    "\n",
    "print(not x)  # Output: False"
   ]
  },
  {
   "cell_type": "markdown",
   "id": "7c1b9bcc",
   "metadata": {},
   "source": [
    "# Q.3. Explain right shift operator and left shift operator with examples."
   ]
  },
  {
   "cell_type": "markdown",
   "id": "24ecb7d2",
   "metadata": {},
   "source": [
    "ans. Right Shift Operator (>>):\n",
    "The right shift operator (>>) shifts the bits of a number to the right by a specified number of positions. It moves each bit to the right by the given number of places, discarding the rightmost bits and filling the leftmost bits with the sign bit (the sign bit is the most significant bit, which indicates the sign of the number in two's complement representation). The general syntax for the right shift operator is a >> b, where a is the number to be shifted, and b is the number of positions to shift.\n",
    "Example:\n",
    "\n",
    "x = 10  # Binary: 00001010\n",
    "\n",
    "y = x >> 2  # Right shift by 2 positions\n",
    "\n",
    "print(y)  # Output: 2  (Binary: 00000010)\n",
    "\n",
    "\n",
    "In this example, the number 10 is represented in binary as 00001010. When we perform a right shift by 2 positions (x >> 2), the bits are shifted to the right by 2 places, resulting in the binary representation 00000010, which is equal to the decimal value 2."
   ]
  },
  {
   "cell_type": "markdown",
   "id": "6d12a5f8",
   "metadata": {},
   "source": [
    "Left Shift Operator (<<):\n",
    "The left shift operator (<<) shifts the bits of a number to the left by a specified number of positions. It moves each bit to the left by the given number of places, filling the rightmost bits with zeroes. The general syntax for the left shift operator is a << b, where a is the number to be shifted, and b is the number of positions to shift.\n",
    "Example:\n",
    "\n",
    "\n",
    "x = 5  # Binary: 00000101\n",
    "\n",
    "y = x << 3  # Left shift by 3 positions\n",
    "\n",
    "print(y)  # Output: 40  (Binary: 00101000)\n",
    "\n",
    "In this example, the number 5 is represented in binary as 00000101. When we perform a left shift by 3 positions (x << 3), the bits are shifted to the left by 3 places, resulting in the binary representation 00101000, which is equal to the decimal value 40."
   ]
  },
  {
   "cell_type": "markdown",
   "id": "911c2f04",
   "metadata": {},
   "source": [
    "# Q.4. What is the difference between the following operators:\n",
    " (i) ‘/’ & ‘//’\n",
    " \n",
    " (ii) ‘**’ & ‘^’"
   ]
  },
  {
   "cell_type": "markdown",
   "id": "076d8ee8",
   "metadata": {},
   "source": [
    "ans. \n",
    "(i) Difference between '/' and '//' operators:\n",
    "\n",
    "The '/' operator is the division operator in Python and performs regular division, resulting in a floating-point or decimal value.\n",
    "The '//' operator is the floor division operator in Python and performs floor division, resulting in an integer value (rounded down towards negative infinity).\n",
    "Example:\n",
    "\n",
    "a = 7\n",
    "\n",
    "b = 2\n",
    "\n",
    "result1 = a / b\n",
    "result2 = a // b\n",
    "\n",
    "print(result1)  # Output: 3.5\n",
    "print(result2)  # Output: 3\n",
    "\n",
    "In this example, a / b performs regular division, resulting in 3.5 (a floating-point value). On the other hand, a // b performs floor division, resulting in 3 (an integer value)."
   ]
  },
  {
   "cell_type": "markdown",
   "id": "6d7066e2",
   "metadata": {},
   "source": [
    "(ii) Difference between '**' and '^' operators:\n",
    "\n",
    "The '**' operator is the exponentiation operator in Python and performs exponentiation, raising the left operand to the power of the right operand.\n",
    "The '^' operator is the bitwise XOR operator in Python and performs bitwise XOR (exclusive OR) operation on the binary representations of the operands.\n",
    "Example:\n",
    "\n",
    "\n",
    "a = 2\n",
    "\n",
    "b = 3\n",
    "\n",
    "result1 = a ** b\n",
    "\n",
    "result2 = a ^ b\n",
    "\n",
    "print(result1)  # Output: 8\n",
    "print(result2)  # Output: 1\n",
    "In this example, a ** b performs exponentiation, resulting in 8 (2 raised to the power of 3). On the other hand, a ^ b performs bitwise XOR operation on the binary representations of 2 and 3, resulting in 1 (00000010 XOR 00000011 = 00000001 in binary)."
   ]
  },
  {
   "cell_type": "markdown",
   "id": "8efc924e",
   "metadata": {},
   "source": [
    "# Q.5. Create a list containing int type data of length 15. Then write a code to check if 10 is  present in the list or not.\n",
    " "
   ]
  },
  {
   "cell_type": "markdown",
   "id": "df51ad82",
   "metadata": {},
   "source": [
    "ans.Here's an example code to create a list of integers with a length of 15 and check if the value 10 is present in the list:\n",
    "\n",
    "my_list = [2, 4, 6, 8, 10, 12, 14, 16, 18, 20, 22, 24, 26, 28, 30]\n",
    "\n",
    "if 10 in my_list:\n",
    "\n",
    "    print(\"10 is present in the list.\")\n",
    "    \n",
    "else:\n",
    "\n",
    "    print(\"10 is not present in the list.\")\n",
    "    \n",
    "In this code, we first create a list my_list with integers of length 15. You can modify the values in the list according to your requirements.\n",
    "\n",
    "Next, we use an if statement to check if the value 10 is present in the list using the in operator. If 10 is found in the list, the code prints \"10 is present in the list.\" Otherwise, it prints \"10 is not present in the list.\"\n",
    "\n",
    "By executing this code, you will get the output indicating whether 10 is present in the list or not based on the condition check."
   ]
  },
  {
   "cell_type": "code",
   "execution_count": null,
   "id": "d63534c6",
   "metadata": {},
   "outputs": [],
   "source": []
  }
 ],
 "metadata": {
  "kernelspec": {
   "display_name": "Python 3 (ipykernel)",
   "language": "python",
   "name": "python3"
  },
  "language_info": {
   "codemirror_mode": {
    "name": "ipython",
    "version": 3
   },
   "file_extension": ".py",
   "mimetype": "text/x-python",
   "name": "python",
   "nbconvert_exporter": "python",
   "pygments_lexer": "ipython3",
   "version": "3.10.9"
  }
 },
 "nbformat": 4,
 "nbformat_minor": 5
}
