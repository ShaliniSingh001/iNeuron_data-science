{
 "cells": [
  {
   "cell_type": "markdown",
   "id": "be80bf1b",
   "metadata": {},
   "source": [
    "# 1.What are the two values of the Boolean data type? How do you write them?"
   ]
  },
  {
   "cell_type": "markdown",
   "id": "07a95c0b",
   "metadata": {},
   "source": [
    "Two values of boolean data type is True and False.\n",
    "True and False using capital T and F with the rest of the word in lowercase.example-\n"
   ]
  },
  {
   "cell_type": "code",
   "execution_count": 9,
   "id": "203cd13a",
   "metadata": {},
   "outputs": [
    {
     "name": "stdout",
     "output_type": "stream",
     "text": [
      "True\n"
     ]
    }
   ],
   "source": [
    "print(True)"
   ]
  },
  {
   "cell_type": "code",
   "execution_count": 10,
   "id": "9445e288",
   "metadata": {},
   "outputs": [
    {
     "name": "stdout",
     "output_type": "stream",
     "text": [
      "False\n"
     ]
    }
   ],
   "source": [
    "print(False)"
   ]
  },
  {
   "cell_type": "markdown",
   "id": "3f06244d",
   "metadata": {},
   "source": [
    "# 2. What are the three different types of Boolean operators?"
   ]
  },
  {
   "cell_type": "markdown",
   "id": "b08c1be4",
   "metadata": {},
   "source": [
    "    Ans.three different types of Boolean opertor are:\n",
    "        ->and operator\n",
    "        ->or operator\n",
    "        ->not operator"
   ]
  },
  {
   "cell_type": "markdown",
   "id": "29f59130",
   "metadata": {},
   "source": [
    "# 3. Make a list of each Boolean operator truth tables (i.e. every possible combination of Boolean values for the operator and what it evaluate ).\n"
   ]
  },
  {
   "cell_type": "markdown",
   "id": "de722d5f",
   "metadata": {},
   "source": [
    "    Ans.\n",
    "        For AND operator:\n",
    "            True and True gives True\n",
    "            False and False gives False\n",
    "            True and False gives False\n",
    "            False and False gives False\n",
    "         For OR operator\n",
    "             True and True gives True \n",
    "             False and False gives False\n",
    "             True and False gives True\n",
    "             False and True gives True\n",
    "          For NOT operator\n",
    "             not True gives False\n",
    "             not True gives False"
   ]
  },
  {
   "cell_type": "markdown",
   "id": "570c0376",
   "metadata": {},
   "source": [
    " # 4. What are the values of the following expressions?"
   ]
  },
  {
   "cell_type": "code",
   "execution_count": 12,
   "id": "40201e92",
   "metadata": {},
   "outputs": [
    {
     "data": {
      "text/plain": [
       "False"
      ]
     },
     "execution_count": 12,
     "metadata": {},
     "output_type": "execute_result"
    }
   ],
   "source": [
    "(5 > 4) and (3 == 5)"
   ]
  },
  {
   "cell_type": "code",
   "execution_count": 13,
   "id": "09ee3686",
   "metadata": {},
   "outputs": [
    {
     "data": {
      "text/plain": [
       "False"
      ]
     },
     "execution_count": 13,
     "metadata": {},
     "output_type": "execute_result"
    }
   ],
   "source": [
    "not (5> 4)"
   ]
  },
  {
   "cell_type": "code",
   "execution_count": 14,
   "id": "17945fea",
   "metadata": {},
   "outputs": [
    {
     "data": {
      "text/plain": [
       "True"
      ]
     },
     "execution_count": 14,
     "metadata": {},
     "output_type": "execute_result"
    }
   ],
   "source": [
    "(5> 4) or (3 == 5)"
   ]
  },
  {
   "cell_type": "code",
   "execution_count": 15,
   "id": "f4c872ad",
   "metadata": {},
   "outputs": [
    {
     "data": {
      "text/plain": [
       "False"
      ]
     },
     "execution_count": 15,
     "metadata": {},
     "output_type": "execute_result"
    }
   ],
   "source": [
    "not ((5> 4) or (3 == 5))"
   ]
  },
  {
   "cell_type": "code",
   "execution_count": 16,
   "id": "8a360e01",
   "metadata": {},
   "outputs": [
    {
     "data": {
      "text/plain": [
       "False"
      ]
     },
     "execution_count": 16,
     "metadata": {},
     "output_type": "execute_result"
    }
   ],
   "source": [
    "(True and True) and (True == False)"
   ]
  },
  {
   "cell_type": "code",
   "execution_count": 17,
   "id": "a89f7b98",
   "metadata": {},
   "outputs": [
    {
     "data": {
      "text/plain": [
       "True"
      ]
     },
     "execution_count": 17,
     "metadata": {},
     "output_type": "execute_result"
    }
   ],
   "source": [
    "(not False) or (not True)"
   ]
  },
  {
   "cell_type": "markdown",
   "id": "9a2fb086",
   "metadata": {},
   "source": [
    "# 5. What are the six comparison operators?"
   ]
  },
  {
   "cell_type": "markdown",
   "id": "ba73e292",
   "metadata": {},
   "source": [
    "    operator               Name                      Example\n",
    "    ==                     Equal                     x==y\n",
    "    !=                     Not equal                 x!=y\n",
    "    >                      Greater than              x > y\n",
    "    <                      Less than                 x < y\n",
    "    >=                     Greater than \n",
    "                           or equal to                x>=y\n",
    "    <=                     Less than or \n",
    "                            equal to                  x<=y"
   ]
  },
  {
   "cell_type": "markdown",
   "id": "9861ffa2",
   "metadata": {},
   "source": [
    "# 6. How do you tell the difference between the equal to and assignment operators?Describe a condition and when you would use one.\n"
   ]
  },
  {
   "cell_type": "markdown",
   "id": "fe45f18c",
   "metadata": {},
   "source": [
    "Equal to (==) is a relational operator used to compare values and then return true and false\n"
   ]
  },
  {
   "cell_type": "markdown",
   "id": "fd79b8a0",
   "metadata": {},
   "source": [
    "    example:\n",
    "             a==10\n",
    "             if a==10:\n",
    "                    return True\n",
    "    Assignment operators is assignment values to a variable.\n",
    "    example:\n",
    "        a=5\n",
    "        b='TOM'\n",
    "    #condition when we would we have to compare values we use equal to,while writing if satementor \n",
    "    while loops we use equal to.\n",
    "    when we went to assign value we use assignment operator.\n",
    "            \n",
    "            "
   ]
  },
  {
   "cell_type": "markdown",
   "id": "9ab94d42",
   "metadata": {},
   "source": [
    "# 7. Identify the three blocks in this code:\n",
    "   "
   ]
  },
  {
   "cell_type": "markdown",
   "id": "ba05adf1",
   "metadata": {},
   "source": [
    "    spam=0\n",
    "    if spam==10:  #if block to print eggs if spam is equal to 10\n",
    "    print('eggs')\n",
    "    if spam>5:       # if block to print bacon if spam is greater than 5\n",
    "    print('bacon')\n",
    "    else:            #if above conditions does not satisfies this block execute\n",
    "    print('hum')\n",
    "    print('spam')\n",
    "    print('spam')"
   ]
  },
  {
   "cell_type": "markdown",
   "id": "2bdf8768",
   "metadata": {},
   "source": [
    "# 8. Write code that prints Hello if 1 is stored in spam, prints Howdy if 2 is stored in spam, and prints Greetings! if anything else is stored in spam\n"
   ]
  },
  {
   "cell_type": "code",
   "execution_count": 29,
   "id": "ead84b04",
   "metadata": {},
   "outputs": [
    {
     "name": "stdout",
     "output_type": "stream",
     "text": [
      "Greetings!\n"
     ]
    }
   ],
   "source": [
    "spam=0\n",
    "if spam==1:\n",
    "    print('Hello')\n",
    "if spam==2:\n",
    "    print('Howdy')\n",
    "else:\n",
    "    print('Greetings!')"
   ]
  },
  {
   "cell_type": "markdown",
   "id": "bbf6e9d3",
   "metadata": {},
   "source": [
    "# 9.If your programme is stuck in an endless loop, what keys you’ll press?"
   ]
  },
  {
   "cell_type": "markdown",
   "id": "af1bfa95",
   "metadata": {},
   "source": [
    "    Ans.Ctrl C"
   ]
  },
  {
   "cell_type": "markdown",
   "id": "0e6eacf5",
   "metadata": {},
   "source": [
    "# 10. How can you tell the difference between break and continue?"
   ]
  },
  {
   "cell_type": "markdown",
   "id": "6448c461",
   "metadata": {},
   "source": [
    "Ans.Break statement will end up in the innermost loop if it is used within a nested loop. While using the continue statement the loops do not terminate but continuously go on with the next iteration. Break and continue are the loop control statements as they are capable of altering the functioning of the loop."
   ]
  },
  {
   "cell_type": "markdown",
   "id": "d53e9781",
   "metadata": {},
   "source": [
    "# 11. In a for loop, what is the difference between range(10), range(0, 10), and range(0, 10, 1)?"
   ]
  },
  {
   "cell_type": "markdown",
   "id": "2cabc08e",
   "metadata": {},
   "source": [
    "Ans.only representation is different it will be executed in a same manner."
   ]
  },
  {
   "cell_type": "code",
   "execution_count": 32,
   "id": "15a4f1f6",
   "metadata": {},
   "outputs": [
    {
     "name": "stdout",
     "output_type": "stream",
     "text": [
      "0\n",
      "1\n",
      "2\n",
      "3\n",
      "4\n",
      "5\n",
      "6\n",
      "7\n",
      "8\n",
      "9\n"
     ]
    }
   ],
   "source": [
    "for i in range (10):\n",
    "    print(i)"
   ]
  },
  {
   "cell_type": "code",
   "execution_count": 34,
   "id": "e5caf3f6",
   "metadata": {},
   "outputs": [
    {
     "name": "stdout",
     "output_type": "stream",
     "text": [
      "0\n",
      "1\n",
      "2\n",
      "3\n",
      "4\n",
      "5\n",
      "6\n",
      "7\n",
      "8\n",
      "9\n"
     ]
    }
   ],
   "source": [
    "for i in range(0,10):\n",
    "    print(i)\n",
    "    "
   ]
  },
  {
   "cell_type": "code",
   "execution_count": 2,
   "id": "7ab93b5e",
   "metadata": {},
   "outputs": [
    {
     "name": "stdout",
     "output_type": "stream",
     "text": [
      "0\n",
      "1\n",
      "2\n",
      "3\n",
      "4\n",
      "5\n",
      "6\n",
      "7\n",
      "8\n",
      "9\n"
     ]
    }
   ],
   "source": [
    "for i in range(0,10,1):\n",
    "    print(i)"
   ]
  },
  {
   "cell_type": "markdown",
   "id": "2f288ac1",
   "metadata": {},
   "source": [
    "# 12. Write a short program that prints the numbers 1 to 10 using a for loop. Then write an equivalent program that prints the numbers 1 to 10 using a while loop.\n"
   ]
  },
  {
   "cell_type": "code",
   "execution_count": 3,
   "id": "8c738994",
   "metadata": {},
   "outputs": [
    {
     "name": "stdout",
     "output_type": "stream",
     "text": [
      "1\n",
      "2\n",
      "3\n",
      "4\n",
      "5\n",
      "6\n",
      "7\n",
      "8\n",
      "9\n",
      "10\n"
     ]
    }
   ],
   "source": [
    "#for loop program\n",
    "\n",
    "for i in range (1,11):\n",
    "    print(i)\n",
    "    "
   ]
  },
  {
   "cell_type": "code",
   "execution_count": 4,
   "id": "91dc7fdd",
   "metadata": {},
   "outputs": [
    {
     "name": "stdout",
     "output_type": "stream",
     "text": [
      "1\n",
      "2\n",
      "3\n",
      "4\n",
      "5\n",
      "6\n",
      "7\n",
      "8\n",
      "9\n",
      "10\n"
     ]
    }
   ],
   "source": [
    "# while loop program\n",
    "\n",
    "\n",
    "i = 1\n",
    "while i>0 and i<=10:\n",
    "    print(i)\n",
    "    i = i + 1"
   ]
  },
  {
   "cell_type": "markdown",
   "id": "a6ba0b87",
   "metadata": {},
   "source": [
    "# 13. If you had a function named bacon() inside a module named spam, how would you call it after importing spam?\n"
   ]
  },
  {
   "cell_type": "code",
   "execution_count": null,
   "id": "30015b88",
   "metadata": {},
   "outputs": [],
   "source": [
    "spam.Bacon()"
   ]
  }
 ],
 "metadata": {
  "kernelspec": {
   "display_name": "Python 3 (ipykernel)",
   "language": "python",
   "name": "python3"
  },
  "language_info": {
   "codemirror_mode": {
    "name": "ipython",
    "version": 3
   },
   "file_extension": ".py",
   "mimetype": "text/x-python",
   "name": "python",
   "nbconvert_exporter": "python",
   "pygments_lexer": "ipython3",
   "version": "3.10.9"
  }
 },
 "nbformat": 4,
 "nbformat_minor": 5
}
