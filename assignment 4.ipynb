{
 "cells": [
  {
   "cell_type": "markdown",
   "id": "b179fb7b",
   "metadata": {},
   "source": [
    " # 1. What exactly is []?"
   ]
  },
  {
   "cell_type": "markdown",
   "id": "2ca36a7b",
   "metadata": {},
   "source": [
    "ans.it is an empty list,like x = []"
   ]
  },
  {
   "cell_type": "markdown",
   "id": "5ce57054",
   "metadata": {},
   "source": [
    " # 2. In a list of values stored in a variable called spam, how would you assign the value &#39;hello&#39; as the third value? (Assume [2, 4, 6, 8, 10] are in spam.)"
   ]
  },
  {
   "cell_type": "code",
   "execution_count": 6,
   "id": "eb11a712",
   "metadata": {},
   "outputs": [
    {
     "name": "stdout",
     "output_type": "stream",
     "text": [
      "[2, 4, 'hello', 8, 10]\n"
     ]
    }
   ],
   "source": [
    "spam = [2,4,6,8,10] \n",
    "spam[2] = 'hello' \n",
    "print(spam)"
   ]
  },
  {
   "cell_type": "markdown",
   "id": "a9d0528e",
   "metadata": {},
   "source": [
    "# Let's pretend the spam includes the list ['a','b','c','d'] for the next three queries.3. What is the value of spam[int(int('3 * 2) / 11)]?"
   ]
  },
  {
   "cell_type": "code",
   "execution_count": 7,
   "id": "f7a039f5",
   "metadata": {},
   "outputs": [
    {
     "data": {
      "text/plain": [
       "'d'"
      ]
     },
     "execution_count": 7,
     "metadata": {},
     "output_type": "execute_result"
    }
   ],
   "source": [
    "spam = ['a','b','c','d']\n",
    "spam[int(int('3' * 2) / 11)] #spam[int(33/11)] = spam[3]"
   ]
  },
  {
   "cell_type": "markdown",
   "id": "9e2cf330",
   "metadata": {},
   "source": [
    " # Let's pretend the spam includes the list ['a','b','c','d'] for the next three queries. 4. What is the value of spam[-1]?"
   ]
  },
  {
   "cell_type": "code",
   "execution_count": 12,
   "id": "321eb28b",
   "metadata": {},
   "outputs": [
    {
     "data": {
      "text/plain": [
       "'d'"
      ]
     },
     "execution_count": 12,
     "metadata": {},
     "output_type": "execute_result"
    }
   ],
   "source": [
    "spam = ['a','b','c','d']\n",
    "spam[-1] # \"d\"  present at first negative index"
   ]
  },
  {
   "cell_type": "markdown",
   "id": "ca3fe825",
   "metadata": {},
   "source": [
    " # Let's pretend the spam includes the list ['a','b','c','d'] for the next three queries.5. What is the value of spam[:2]?"
   ]
  },
  {
   "cell_type": "code",
   "execution_count": 14,
   "id": "142afa94",
   "metadata": {},
   "outputs": [
    {
     "data": {
      "text/plain": [
       "['a', 'b']"
      ]
     },
     "execution_count": 14,
     "metadata": {},
     "output_type": "execute_result"
    }
   ],
   "source": [
    "spam = ['a','b','c','d']\n",
    "spam[:2] "
   ]
  },
  {
   "cell_type": "markdown",
   "id": "d27db8a7",
   "metadata": {},
   "source": [
    " # Let&#39;s pretend bacon has the list [3.14, &#39;cat,&#39; 11, &#39;cat,&#39; True] for the next three questions.6. What is the value of bacon.index(&#39;cat&#39;)?"
   ]
  },
  {
   "cell_type": "code",
   "execution_count": 20,
   "id": "4001bc3c",
   "metadata": {},
   "outputs": [
    {
     "data": {
      "text/plain": [
       "1"
      ]
     },
     "execution_count": 20,
     "metadata": {},
     "output_type": "execute_result"
    }
   ],
   "source": [
    "bacon = [3.14, 'cat',11,'cat',True]\n",
    "bacon.index('cat') #return the index no.of cat"
   ]
  },
  {
   "cell_type": "markdown",
   "id": "21ad51b4",
   "metadata": {},
   "source": [
    " # Let&#39;s pretend bacon has the list [3.14, &#39;cat,&#39; 11, &#39;cat,&#39; True] for the next three questions.7. How does bacon.append(99) change the look of the list value in bacon?"
   ]
  },
  {
   "cell_type": "code",
   "execution_count": 21,
   "id": "effcd623",
   "metadata": {},
   "outputs": [
    {
     "name": "stdout",
     "output_type": "stream",
     "text": [
      "[3.14, 'cat', 11, 'cat', True, 99]\n"
     ]
    }
   ],
   "source": [
    "bacon = [3.14,'cat',11,'cat',True]\n",
    "bacon.append(99) #append adds the item at the end\n",
    "print(bacon)"
   ]
  },
  {
   "cell_type": "markdown",
   "id": "79c641fc",
   "metadata": {},
   "source": [
    "# Let&#39;s pretend bacon has the list [3.14, &#39;cat,&#39; 11, &#39;cat,&#39; True] for the next three questions.8. How does bacon.remove(&#39;cat&#39;) change the look of the list in bacon?"
   ]
  },
  {
   "cell_type": "code",
   "execution_count": 23,
   "id": "76297ea6",
   "metadata": {},
   "outputs": [
    {
     "name": "stdout",
     "output_type": "stream",
     "text": [
      "[3.14, 11, 'cat', True]\n"
     ]
    }
   ],
   "source": [
    "bacon = [3.14,'cat',11,'cat',True]\n",
    "bacon.remove('cat') # remove the 'cat' (first occurrence)\n",
    "print(bacon)"
   ]
  },
  {
   "cell_type": "markdown",
   "id": "12afede9",
   "metadata": {},
   "source": [
    " # 9. What are the list concatenation and list replication operators?"
   ]
  },
  {
   "cell_type": "markdown",
   "id": "6a636fdd",
   "metadata": {},
   "source": [
    "concatenation operator + operator joins the two list replication operator * operator replicates the elements in the list"
   ]
  },
  {
   "cell_type": "markdown",
   "id": "3af6c91d",
   "metadata": {},
   "source": [
    "# 10. What is difference between the list methods append() and insert()?"
   ]
  },
  {
   "cell_type": "markdown",
   "id": "7fc6af14",
   "metadata": {},
   "source": [
    " append() adds an item to the end of a list, whereas. insert()inserts and item in a specified position in the list."
   ]
  },
  {
   "cell_type": "code",
   "execution_count": 25,
   "id": "8bd2c9c9",
   "metadata": {},
   "outputs": [
    {
     "name": "stdout",
     "output_type": "stream",
     "text": [
      "[12.5, 'dog', 55, 'dog', True, 52]\n"
     ]
    }
   ],
   "source": [
    "bacon = [12.5,'dog',55,'dog',True]\n",
    "bacon.append(52) # appendadds the item at the end\n",
    "print(bacon)"
   ]
  },
  {
   "cell_type": "code",
   "execution_count": 26,
   "id": "a4dbfb9c",
   "metadata": {},
   "outputs": [
    {
     "name": "stdout",
     "output_type": "stream",
     "text": [
      "[12.5, 'dog', 55, 'cat', 'dog', True]\n"
     ]
    }
   ],
   "source": [
    "bacon = [12.5,'dog',55,'dog',True]\n",
    "bacon.insert(3,\"cat\") # \"cat\" is inserted in index 3\n",
    "print(bacon)"
   ]
  },
  {
   "cell_type": "markdown",
   "id": "5f87adc7",
   "metadata": {},
   "source": [
    " # 11. What are the two methods for removing items from a list?"
   ]
  },
  {
   "cell_type": "markdown",
   "id": "d6b7802a",
   "metadata": {},
   "source": [
    "remove() and del "
   ]
  },
  {
   "cell_type": "code",
   "execution_count": 31,
   "id": "2d2c1665",
   "metadata": {},
   "outputs": [
    {
     "name": "stdout",
     "output_type": "stream",
     "text": [
      "[12.5, 'dog', 'dog', True]\n"
     ]
    }
   ],
   "source": [
    "\n",
    "my_list = [12.5,'dog',55,'dog',True]\n",
    "my_list.remove(55)\n",
    "print(my_list)\n"
   ]
  },
  {
   "cell_type": "code",
   "execution_count": 35,
   "id": "1e76794a",
   "metadata": {},
   "outputs": [
    {
     "name": "stdout",
     "output_type": "stream",
     "text": [
      "[12.5, 'dog', 55, 'dog']\n"
     ]
    }
   ],
   "source": [
    "my_list = [12.5,'dog',55,'dog',True]\n",
    "del my_list[4]\n",
    "print(my_list)"
   ]
  },
  {
   "cell_type": "markdown",
   "id": "34907e5b",
   "metadata": {},
   "source": [
    "# 12. Describe how list values and string values are identical."
   ]
  },
  {
   "cell_type": "markdown",
   "id": "d5473bce",
   "metadata": {},
   "source": [
    "Ans.1. Both have indexes \n",
    "2. both list and string can be passed to len()function.\n",
    "3.both can be concatenated or replicated \n",
    "4. both can be sliced"
   ]
  },
  {
   "cell_type": "markdown",
   "id": "5c4b2c1f",
   "metadata": {},
   "source": [
    " # 13. What&#39;s the difference between tuples and lists?"
   ]
  },
  {
   "cell_type": "markdown",
   "id": "2471655c",
   "metadata": {},
   "source": [
    "ans. list are mutable, Tuples are immutable lists use the square brackets []. Tuples are written using parenthises()"
   ]
  },
  {
   "cell_type": "markdown",
   "id": "8d3b457c",
   "metadata": {},
   "source": [
    " # 14. How do you type a tuple value that only contains the integer 42?"
   ]
  },
  {
   "cell_type": "code",
   "execution_count": 44,
   "id": "9be497a2",
   "metadata": {},
   "outputs": [
    {
     "name": "stdout",
     "output_type": "stream",
     "text": [
      "<class 'tuple'>\n",
      "(42,)\n"
     ]
    }
   ],
   "source": [
    "my_tuple = (42,)\n",
    "print(type(my_tuple))\n",
    "print(my_tuple)"
   ]
  },
  {
   "cell_type": "markdown",
   "id": "b2eda02f",
   "metadata": {},
   "source": [
    " # 15. How do you get a list value&#39;s tuple form? How do you get a tuple value&#39;s list form?"
   ]
  },
  {
   "cell_type": "code",
   "execution_count": 48,
   "id": "bc6498ff",
   "metadata": {},
   "outputs": [
    {
     "name": "stdout",
     "output_type": "stream",
     "text": [
      "(1, 2, 3, 4, 5)\n"
     ]
    }
   ],
   "source": [
    "my_list = [1,2,3,4,5]\n",
    "my_tuple = tuple(my_list)\n",
    "print(my_tuple)\n"
   ]
  },
  {
   "cell_type": "code",
   "execution_count": 49,
   "id": "900e0822",
   "metadata": {},
   "outputs": [
    {
     "name": "stdout",
     "output_type": "stream",
     "text": [
      "[1, 2, 3, 4, 5]\n"
     ]
    }
   ],
   "source": [
    "my_tuple = (1,2,3,4,5)\n",
    "my_list = list(my_tuple)\n",
    "print(my_list)"
   ]
  },
  {
   "cell_type": "markdown",
   "id": "eb03f0db",
   "metadata": {},
   "source": [
    " # 16. Variables that &quot;contain&quot; list values are not necessarily lists themselves. Instead, what do they contain?"
   ]
  },
  {
   "cell_type": "markdown",
   "id": "be32c870",
   "metadata": {},
   "source": [
    "variables will contain references to list values."
   ]
  },
  {
   "cell_type": "markdown",
   "id": "c080c662",
   "metadata": {},
   "source": [
    "# 17. How do you distinguish between copy.copy() and copy.deepcopy()?"
   ]
  },
  {
   "cell_type": "markdown",
   "id": "481c9941",
   "metadata": {},
   "source": [
    "A shallow copy will create a new compound object and then will add a reference to the object found in the original. Adeep copy will create a new compound object abd then add a reference to the object found in the original."
   ]
  },
  {
   "cell_type": "code",
   "execution_count": null,
   "id": "77ef173b",
   "metadata": {},
   "outputs": [],
   "source": []
  }
 ],
 "metadata": {
  "kernelspec": {
   "display_name": "Python 3 (ipykernel)",
   "language": "python",
   "name": "python3"
  },
  "language_info": {
   "codemirror_mode": {
    "name": "ipython",
    "version": 3
   },
   "file_extension": ".py",
   "mimetype": "text/x-python",
   "name": "python",
   "nbconvert_exporter": "python",
   "pygments_lexer": "ipython3",
   "version": "3.10.9"
  }
 },
 "nbformat": 4,
 "nbformat_minor": 5
}
