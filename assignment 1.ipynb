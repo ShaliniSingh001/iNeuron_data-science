{
 "cells": [
  {
   "cell_type": "markdown",
   "id": "cd61e3ef",
   "metadata": {},
   "source": [
    "# 1. In the below elements which of them are values or an expression? eg:- values can be integer or string and expressions will be mathematical operators.\n",
    "    *\n",
    "       'hello'\n",
    "    -87.8\n",
    "    -\n",
    "    /\n",
    "    +\n",
    "    6"
   ]
  },
  {
   "cell_type": "markdown",
   "id": "8303a37f",
   "metadata": {},
   "source": [
    "    * multiple expression\n",
    "    'hello' string value\n",
    "    -87.8 float value\n",
    "    in this - subtraction expression\n",
    "    / division expression\n",
    "    + addition expression\n",
    "    6 integer value\n",
    "\n",
    "\n"
   ]
  },
  {
   "cell_type": "markdown",
   "id": "92eb5342",
   "metadata": {},
   "source": [
    "# 2. What is the difference between string and variable?"
   ]
  },
  {
   "cell_type": "markdown",
   "id": "344e9b01",
   "metadata": {},
   "source": [
    "Variable is a container in which you can store a different type of data or values.For example string int float list tuple etc.\n",
    "\n",
    "string is a collection of character which enclosed in single quotes ‘ or a double quote ‘’\n",
    "We can slice the string and access the particular character with the help of there index number.\n",
    "But we can not change it because string is immutable. ex x='string'"
   ]
  },
  {
   "cell_type": "markdown",
   "id": "2e8ffb41",
   "metadata": {},
   "source": [
    "# 3. Describe three different data types."
   ]
  },
  {
   "cell_type": "markdown",
   "id": "35394fd1",
   "metadata": {},
   "source": [
    "string- Strings are immutable which means once we declare a string we can't update the already\n",
    "declared string. Example: Single = 'Welcome' or Multi = \"Welcome\".\n",
    "\n",
    "List- A list is a mutable, or changeable, ordered sequence of elements\n",
    "Each element or value that is inside of a list is called an item.\n",
    "\n",
    "Tuple- Python tuple is another sequence data type that is similar to a list.\n",
    "A Python tuple consists of a number of values separated by commas."
   ]
  },
  {
   "cell_type": "markdown",
   "id": "f1768c82",
   "metadata": {},
   "source": [
    "# 4. What is an expression made up of? What do all expressions do?"
   ]
  },
  {
   "cell_type": "markdown",
   "id": "ab5780c4",
   "metadata": {},
   "source": [
    " expressions are not used to control the flow of execution or perform actions \n",
    "directly. Statements are primarily responsible for controlling the flow and performing actions in a program. Expressions, on the other hand, are used to compute values or produce resultsthat can be used by statements."
   ]
  },
  {
   "cell_type": "markdown",
   "id": "31cf3763",
   "metadata": {},
   "source": [
    "# 5. This assignment statements, like spam = 10. What is the difference between and expression and a statement?"
   ]
  },
  {
   "cell_type": "markdown",
   "id": "132673c0",
   "metadata": {},
   "source": [
    "Expression is the combination of value, variable and operators which produce an output. \n",
    "\n",
    "There are following type of expression:\n",
    "1. Arithmetic expression: In which we use use integer, float, complex number as a value are called arithmetic expression. Example : x = 2+3 ; x = 2*3\n",
    "\n",
    "2. String expression: In which we use use string as a value are called string expression. Example : x = “hello”+”hi” #output hellohi ; x = hi*3 #output hihihi\n",
    "\n",
    "3. Relational expression: In which we use relational operators with variable or values. For example: 5>2, 6>=7, y<=x etc \n",
    "\n",
    "4. Logical expression: In which we use logical operators with variable or values. For example: and, or, not\n",
    "        \n",
    "      Statement:\n",
    "A statement is a complete unit of code that performs an action or an operation. It is like a complete sentence or an instruction in a programming language. Unlike expressions, statements do not necessarily produce a value, although they may have side effects, such as modifying variables or producing output.\n",
    "Some examples of statements are:\n",
    "\n",
    "1. Assignment statement: spam = 5 (assigns the value 5 to the variable spam)\n",
    "\n",
    "2. Conditional statement: if x > 10: print(\"x is greater than 10\") (executes the print statement only if the condition x > 10 is true)\n",
    "\n",
    "3. Loop statement: for i in range(5): print(i) (executes the print statement five times, with i taking different values in each iteration)\n",
    "\n",
    "Statements are used to control the flow of execution in a program and perform actions such as assigning values, making decisions, or repeating a set of instructions.  "
   ]
  },
  {
   "cell_type": "markdown",
   "id": "f82b139f",
   "metadata": {},
   "source": [
    "# 6. After running the following code, what does the variable bacon contain?\n",
    "    bacon = 22\n",
    "    bacon + 1"
   ]
  },
  {
   "cell_type": "code",
   "execution_count": 2,
   "id": "b3e6fa41",
   "metadata": {},
   "outputs": [
    {
     "name": "stdout",
     "output_type": "stream",
     "text": [
      "22\n"
     ]
    }
   ],
   "source": [
    "bacon = 22\n",
    "bacon +1\n",
    "print (bacon)"
   ]
  },
  {
   "cell_type": "markdown",
   "id": "0c15b926",
   "metadata": {},
   "source": [
    "# 7. What should the values of the following two terms be?\n",
    "    spam + spamspam\n",
    "    'spam'*3"
   ]
  },
  {
   "cell_type": "code",
   "execution_count": 9,
   "id": "65b128bd",
   "metadata": {},
   "outputs": [
    {
     "name": "stdout",
     "output_type": "stream",
     "text": [
      "spamspamspam\n",
      "spamspamspam\n"
     ]
    }
   ],
   "source": [
    "print(\"spam\"+ \"spamspam\")\n",
    "print('spam'*3)"
   ]
  },
  {
   "cell_type": "markdown",
   "id": "5544fafc",
   "metadata": {},
   "source": [
    "# 8. Why is eggs a valid variable name while 100 is invalid?"
   ]
  },
  {
   "cell_type": "markdown",
   "id": "c21335fe",
   "metadata": {},
   "source": [
    "eggs a valid variable name while 100 is invalid because variable name only start with alphabet or _ underscore only. Anything else will be invalid. You can use 100 as variable name if you use underscore and alphabet before 100 ex: _100; a100"
   ]
  },
  {
   "cell_type": "markdown",
   "id": "89ac4631",
   "metadata": {},
   "source": [
    "# 9. What three functions can be used to get the integer, floating-point number, or string  version of a value?\n",
    "   "
   ]
  },
  {
   "cell_type": "markdown",
   "id": "f7fa369d",
   "metadata": {},
   "source": [
    "The int(), float() or str() are the three function which use to get a integer, float-point number or string version repectively.\n"
   ]
  },
  {
   "cell_type": "code",
   "execution_count": 13,
   "id": "39422d72",
   "metadata": {},
   "outputs": [],
   "source": [
    "#Integer from string (only if it contain a valid integer representation)\n",
    "s1 =\"23\"\n",
    "i = int(s1)\n",
    "#Floating- point  from string (only if it contain a valid integer representation)\n",
    "s2 = \"23.45\"\n",
    "f = float(s2)\n",
    "# string from intiger\n",
    "x = 23\n",
    "s = str(x)"
   ]
  },
  {
   "cell_type": "markdown",
   "id": "bd4f5ab2",
   "metadata": {},
   "source": [
    "# 10. Why does this expression cause an error? How can you fix it? I have eaten + 99 + burritos.\n",
    "   "
   ]
  },
  {
   "cell_type": "markdown",
   "id": "84d71795",
   "metadata": {},
   "source": [
    "Given expression cause an error because it attempts to concatenate a string 'I have eaten ' with an integer 99 using the + operator. + Operator is only use with same data type. for example:\n",
    "\n",
    "\n",
    "\n"
   ]
  },
  {
   "cell_type": "code",
   "execution_count": 11,
   "id": "392b34da",
   "metadata": {},
   "outputs": [
    {
     "data": {
      "text/plain": [
       "100"
      ]
     },
     "execution_count": 11,
     "metadata": {},
     "output_type": "execute_result"
    }
   ],
   "source": [
    "x = 99 + 1\n",
    "x"
   ]
  },
  {
   "cell_type": "code",
   "execution_count": 12,
   "id": "3732dd61",
   "metadata": {},
   "outputs": [
    {
     "data": {
      "text/plain": [
       "'I have eaten 99burritos.'"
      ]
     },
     "execution_count": 12,
     "metadata": {},
     "output_type": "execute_result"
    }
   ],
   "source": [
    "#To make it correct write 99 as a string \n",
    "'I have eaten '+ '99'+ 'burritos.'"
   ]
  },
  {
   "cell_type": "code",
   "execution_count": null,
   "id": "611b3ff1",
   "metadata": {},
   "outputs": [],
   "source": []
  }
 ],
 "metadata": {
  "kernelspec": {
   "display_name": "Python 3 (ipykernel)",
   "language": "python",
   "name": "python3"
  },
  "language_info": {
   "codemirror_mode": {
    "name": "ipython",
    "version": 3
   },
   "file_extension": ".py",
   "mimetype": "text/x-python",
   "name": "python",
   "nbconvert_exporter": "python",
   "pygments_lexer": "ipython3",
   "version": "3.10.9"
  }
 },
 "nbformat": 4,
 "nbformat_minor": 5
}
