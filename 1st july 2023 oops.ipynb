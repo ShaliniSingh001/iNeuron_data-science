{
 "cells": [
  {
   "cell_type": "markdown",
   "id": "c7aa6fd3",
   "metadata": {},
   "source": [
    "# 1. What is the primary goal of Object-Oriented Programming (OOP)?"
   ]
  },
  {
   "cell_type": "markdown",
   "id": "8cebd412",
   "metadata": {},
   "source": [
    "Ans.Encapsulation\n",
    "\n",
    "inheritance\n",
    "\n",
    "polymorphism\n",
    "\n",
    "Abstraction"
   ]
  },
  {
   "cell_type": "markdown",
   "id": "8786a96e",
   "metadata": {},
   "source": [
    "# 2. What is an object in Python?"
   ]
  },
  {
   "cell_type": "markdown",
   "id": "181861c2",
   "metadata": {},
   "source": [
    "Ans.Objects are the instances of a particular class. "
   ]
  },
  {
   "cell_type": "markdown",
   "id": "7f75238c",
   "metadata": {},
   "source": [
    "# 3. What is a class in Python?"
   ]
  },
  {
   "cell_type": "markdown",
   "id": "81db46c6",
   "metadata": {},
   "source": [
    "Ans. A Class is like an object constructor, or a \"blueprint\" for creating objects."
   ]
  },
  {
   "cell_type": "markdown",
   "id": "d6c4e55e",
   "metadata": {},
   "source": [
    "# 4. What are attributes and methods in a class?"
   ]
  },
  {
   "cell_type": "markdown",
   "id": "4f844e6e",
   "metadata": {},
   "source": [
    "Ans.A variable stored in an instance or class is called an attribute. A function stored in an instance or class is called a method."
   ]
  },
  {
   "cell_type": "markdown",
   "id": "5a3e7f71",
   "metadata": {},
   "source": [
    "# 5. What is the difference between class variables and instance variables in Python?"
   ]
  },
  {
   "cell_type": "markdown",
   "id": "4608ff88",
   "metadata": {},
   "source": [
    "Ans.Class variables are defined within the class but outside of any class methods. Instance variables are defined within class methods, typically the constructor. "
   ]
  },
  {
   "cell_type": "markdown",
   "id": "fd3783b5",
   "metadata": {},
   "source": [
    "# 6. What is the purpose of the self parameter in Python class methods?"
   ]
  },
  {
   "cell_type": "markdown",
   "id": "ca9c45db",
   "metadata": {},
   "source": [
    "Ans.SELF represents the instance of class. This handy keyword allows you to access variables, attributes, and methods of a defined class in Python"
   ]
  },
  {
   "cell_type": "markdown",
   "id": "3c08827e",
   "metadata": {},
   "source": [
    "# 7. For a library management system, you have to design the \"Book\" class with OOP\n",
    "principles in mind. The “Book” class will have following attributes:\n",
    "a. title: Represents the title of the book.\n",
    "b. author: Represents the author(s) of the book.\n",
    "c. isbn: Represents the ISBN (International Standard Book Number) of the book.\n",
    "d. publication_year: Represents the year of publication of the book.\n",
    "e. available_copies: Represents the number of copies available for checkout.\n",
    "The class will also include the following methods:\n",
    "a. check_out(self): Decrements the available copies by one if there are copies\n",
    "available for checkout.\n",
    "b. return_book(self): Increments the available copies by one when a book is\n",
    "returned.\n",
    "c. display_book_info(self): Displays the information about the book, including its\n",
    "attributes and the number of available copies."
   ]
  },
  {
   "cell_type": "code",
   "execution_count": 11,
   "id": "58f08d12",
   "metadata": {},
   "outputs": [
    {
     "name": "stdout",
     "output_type": "stream",
     "text": [
      "Title: python\n",
      "Author(s): guido_van_rossum\n",
      "ISBN: 978-3-16-148410-0\n",
      "Publication Year: 1991\n",
      "Available Copies: 20\n",
      "Checking out book: True\n",
      "Checking out book: True\n",
      "Title: python\n",
      "Author(s): guido_van_rossum\n",
      "ISBN: 978-3-16-148410-0\n",
      "Publication Year: 1991\n",
      "Available Copies: 18\n",
      "Returning book...\n",
      "Title: python\n",
      "Author(s): guido_van_rossum\n",
      "ISBN: 978-3-16-148410-0\n",
      "Publication Year: 1991\n",
      "Available Copies: 19\n"
     ]
    }
   ],
   "source": [
    "class Book:\n",
    "    def __init__(self, title, author, isbn, publication_year, available_copies):\n",
    "        self.title = title\n",
    "        self.author = author\n",
    "        self.isbn = isbn\n",
    "        self.publication_year = publication_year\n",
    "        self.available_copies = available_copies\n",
    "\n",
    "    def check_out(self):\n",
    "        if self.available_copies > 0:\n",
    "            self.available_copies -= 1\n",
    "            return True\n",
    "        else:\n",
    "            return False\n",
    "\n",
    "    def return_book(self):\n",
    "        self.available_copies += 1\n",
    "\n",
    "    def display_book_info(self):\n",
    "        print(\"Title:\", self.title)\n",
    "        print(\"Author(s):\", self.author)\n",
    "        print(\"ISBN:\", self.isbn)\n",
    "        print(\"Publication Year:\", self.publication_year)\n",
    "        print(\"Available Copies:\", self.available_copies)\n",
    "\n",
    "# Example usage:\n",
    "\n",
    "book1 = Book(\"python\", \"guido_van_rossum\", \"978-3-16-148410-0\", 1991, 20)\n",
    "\n",
    "book1.display_book_info()\n",
    "print(\"Checking out book:\", book1.check_out())\n",
    "print(\"Checking out book:\", book1.check_out())\n",
    "book1.display_book_info()\n",
    "\n",
    "book1.return_book()\n",
    "print(\"Returning book...\")\n",
    "book1.display_book_info()"
   ]
  },
  {
   "cell_type": "markdown",
   "id": "8e4955ae",
   "metadata": {},
   "source": [
    "# 8. For a ticket booking system, you have to design the \"Ticket\" class with OOP\n",
    " principles in mind. The “Ticket” class should have the following attributes:\n",
    " a. ticket_id: Represents the unique identifier for the ticket.\n",
    " b. event_name: Represents the name of the event.\n",
    " c. event_date: Represents the date of the event.\n",
    " d. venue: Represents the venue of the event.\n",
    " e. seat_number: Represents the seat number associated with the ticket.\n",
    " f. price: Represents the price of the ticket.\n",
    " g. is_reserved: Represents the reservation status of the ticket.\n",
    " The class also includes the following methods:\n",
    " a. reserve_ticket(self): Marks the ticket as reserved if it is not already reserved.\n",
    " b. cancel_reservation(self): Cancels the reservation of the ticket if it is already\n",
    " reserved.\n",
    " c. display_ticket_info(self): Displays the information about the ticket, including its\n",
    " attributes and reservation status."
   ]
  },
  {
   "cell_type": "code",
   "execution_count": 30,
   "id": "4b05093c",
   "metadata": {},
   "outputs": [
    {
     "name": "stdout",
     "output_type": "stream",
     "text": [
      "Ticket Information:\n",
      "Ticket ID: 1\n",
      "Event Name: cricket\n",
      "Event Date: 2023-07-30\n",
      "Venue: Eakana stadium\n",
      "Seat Number: AC12\n",
      "Price: $1200\n",
      "Reservation Status: Not Reserved\n"
     ]
    }
   ],
   "source": [
    "class Ticket:\n",
    "    def __init__(self, ticket_id, event_name, event_date, venue, seat_number, price):\n",
    "        self.ticket_id = ticket_id\n",
    "        self.event_name = event_name\n",
    "        self.event_date = event_date\n",
    "        self.venue = venue\n",
    "        self.seat_number = seat_number\n",
    "        self.price = price\n",
    "        self.is_reserved = False\n",
    "\n",
    "    def reserve_ticket(self):\n",
    "        if not self.is_reserved:\n",
    "            self.is_reserved = True\n",
    "            print(f\"Ticket {self.ticket_id} has been reserved.\")\n",
    "        else:\n",
    "            print(f\"Ticket {self.ticket_id} is already reserved.\")\n",
    "\n",
    "    def cancel_reservation(self):\n",
    "        if self.is_reserved: \n",
    "            self.is_reserved = False\n",
    "            print(f\"Reservation for ticket {self.ticket_id} has been canceled.\")\n",
    "        else:\n",
    "            print(f\"Ticket {self.ticket_id} is not reserved.\")\n",
    "\n",
    "    def display_ticket_info(self):\n",
    "        print(\"Ticket Information:\")\n",
    "        print(f\"Ticket ID: {self.ticket_id}\")\n",
    "        print(f\"Event Name: {self.event_name}\")\n",
    "        print(f\"Event Date: {self.event_date}\")\n",
    "        print(f\"Venue: {self.venue}\")\n",
    "        print(f\"Seat Number: {self.seat_number}\")\n",
    "        print(f\"Price: ${self.price}\")\n",
    "        reservation_status = \"Reserved\" if self.is_reserved else\"Not Reserved\"\n",
    "        print(f\"Reservation Status: {reservation_status}\")\n",
    "\n",
    "\n",
    "\n",
    "    # Creating a ticket object\n",
    "    ticket1 = Ticket(ticket_id=1, event_name=\"cricket\", event_date=\"2023-07-30\",\n",
    "    venue=\"Eakana stadium\", seat_number=\"AC12\", price=1200)\n",
    "\n",
    "   \n",
    "    ticket1.display_ticket_info()\n",
    "\n",
    "  "
   ]
  },
  {
   "cell_type": "code",
   "execution_count": 31,
   "id": "fb0f633e",
   "metadata": {},
   "outputs": [
    {
     "data": {
      "text/plain": [
       "['__class__',\n",
       " '__delattr__',\n",
       " '__dict__',\n",
       " '__dir__',\n",
       " '__doc__',\n",
       " '__eq__',\n",
       " '__format__',\n",
       " '__ge__',\n",
       " '__getattribute__',\n",
       " '__gt__',\n",
       " '__hash__',\n",
       " '__init__',\n",
       " '__init_subclass__',\n",
       " '__le__',\n",
       " '__lt__',\n",
       " '__module__',\n",
       " '__ne__',\n",
       " '__new__',\n",
       " '__reduce__',\n",
       " '__reduce_ex__',\n",
       " '__repr__',\n",
       " '__setattr__',\n",
       " '__sizeof__',\n",
       " '__str__',\n",
       " '__subclasshook__',\n",
       " '__weakref__',\n",
       " 'cancel_reservation',\n",
       " 'display_ticket_info',\n",
       " 'reserve_ticket',\n",
       " 'ticket1']"
      ]
     },
     "execution_count": 31,
     "metadata": {},
     "output_type": "execute_result"
    }
   ],
   "source": [
    "dir(Ticket)"
   ]
  },
  {
   "cell_type": "markdown",
   "id": "0de6fdf1",
   "metadata": {},
   "source": [
    "# 9. You are creating a shopping cart for an e-commerce website. Using OOP to model\n",
    "the \"ShoppingCart\" functionality the class should contain following attributes and\n",
    "methods:\n",
    "a. items: Represents the list of items in the shopping cart.\n",
    "The class also includes the following methods:\n",
    "\n",
    "a. add_item(self, item): Adds an item to the shopping cart by appending it to the\n",
    "list of items.\n",
    "b. remove_item(self, item): Removes an item from the shopping cart if it exists in\n",
    "the list.\n",
    "c. view_cart(self): Displays the items currently present in the shopping cart.\n",
    "d. clear_cart(self): Clears all items from the shopping cart by reassigning an\n",
    "empty list to the items attribute."
   ]
  },
  {
   "cell_type": "code",
   "execution_count": 6,
   "id": "8a127623",
   "metadata": {},
   "outputs": [
    {
     "name": "stdout",
     "output_type": "stream",
     "text": [
      "Items in your cart:\n",
      "boll\n",
      "T-shirt\n",
      "Hat\n",
      "Items in your cart:\n",
      "boll\n",
      "Hat\n",
      "Items in your cart:\n"
     ]
    }
   ],
   "source": [
    "class ShoppingCart:\n",
    "    def __init__(self):\n",
    "        self.items = []\n",
    "\n",
    "    def add_item(self, item):\n",
    "        self.items.append(item)\n",
    "\n",
    "    def remove_item(self, item):\n",
    "        if item in self.items:\n",
    "            self.items.remove(item)\n",
    "\n",
    "    def view_cart(self):\n",
    "        print(\"Items in your cart:\")\n",
    "        for item in self.items:\n",
    "            print(item)\n",
    "\n",
    "    def clear_cart(self):\n",
    "        self.items = []\n",
    "\n",
    "# Let's use our shopping cart:\n",
    "cart = ShoppingCart()\n",
    "\n",
    "cart.add_item(\"boll\")\n",
    "cart.add_item(\"T-shirt\")\n",
    "cart.add_item(\"Hat\")\n",
    "\n",
    "cart.view_cart()\n",
    "\n",
    "cart.remove_item(\"T-shirt\")\n",
    "\n",
    "\n",
    "cart.view_cart()\n",
    "cart.clear_cart()\n",
    "cart.view_cart()"
   ]
  },
  {
   "cell_type": "markdown",
   "id": "48aa8185",
   "metadata": {},
   "source": [
    "# 10. Imagine a school management system. You have to design the \"Student\" class using\n",
    "OOP concepts.The “Student” class has the following attributes:\n",
    "a. name: Represents the name of the student.\n",
    "b. age: Represents the age of the student.\n",
    "c. grade: Represents the grade or class of the student.\n",
    "d. student_id: Represents the unique identifier for the student.\n",
    "e. attendance: Represents the attendance record of the student.\n",
    "The class should also include the following methods:\n",
    "a. update_attendance(self, date, status): Updates the attendance record of the\n",
    "student for a given date with the provided status (e.g., present or absent).\n",
    "b. get_attendance(self): Returns the attendance record of the student.\n",
    "c. get_average_attendance(self): Calculates and returns the average\n",
    "attendance percentage of the student based on their attendance record."
   ]
  },
  {
   "cell_type": "code",
   "execution_count": 15,
   "id": "1095675d",
   "metadata": {},
   "outputs": [
    {
     "name": "stdout",
     "output_type": "stream",
     "text": [
      "Attendance Record: {'2023-08-25': 'present', '2023-08-26': 'absent', '2023-08-27': 'absent'}\n",
      "Average Attendance: 33.33333333333333 %\n"
     ]
    }
   ],
   "source": [
    "class Student:\n",
    "    def __init__(self, name, age, grade, student_id):\n",
    "        self.name = name\n",
    "        self.age = age\n",
    "        self.grade = grade\n",
    "        self.student_id = student_id\n",
    "        self.attendance = {}  # Using a dictionary to store attendance with dates as keys\n",
    "\n",
    "    def update_attendance(self, date, status):\n",
    "        self.attendance[date] = status\n",
    "\n",
    "    def get_attendance(self):\n",
    "        return self.attendance\n",
    "\n",
    "    def get_average_attendance(self):\n",
    "        total_days = len(self.attendance)\n",
    "        if total_days == 0:\n",
    "            return 0  # To avoid division by zero\n",
    "        present_days = sum(1 for status in self.attendance.values() if status == \"present\")\n",
    "        average_attendance = (present_days / total_days) * 100\n",
    "        return average_attendance\n",
    "\n",
    "# Example usage:\n",
    "\n",
    "student1 = Student(\"shalini\", 15, \"msc\", \"ST12345\")\n",
    "\n",
    "student1.update_attendance(\"2023-08-25\", \"present\")\n",
    "student1.update_attendance(\"2023-08-26\", \"absent\")\n",
    "student1.update_attendance(\"2023-08-27\", \"absent\")\n",
    "\n",
    "attendance_record = student1.get_attendance()\n",
    "print(\"Attendance Record:\", attendance_record)\n",
    "\n",
    "average_attendance = student1.get_average_attendance()\n",
    "print(\"Average Attendance:\", average_attendance, \"%\")"
   ]
  },
  {
   "cell_type": "code",
   "execution_count": null,
   "id": "c8fd66a5",
   "metadata": {},
   "outputs": [],
   "source": []
  }
 ],
 "metadata": {
  "kernelspec": {
   "display_name": "Python 3 (ipykernel)",
   "language": "python",
   "name": "python3"
  },
  "language_info": {
   "codemirror_mode": {
    "name": "ipython",
    "version": 3
   },
   "file_extension": ".py",
   "mimetype": "text/x-python",
   "name": "python",
   "nbconvert_exporter": "python",
   "pygments_lexer": "ipython3",
   "version": "3.10.9"
  }
 },
 "nbformat": 4,
 "nbformat_minor": 5
}
