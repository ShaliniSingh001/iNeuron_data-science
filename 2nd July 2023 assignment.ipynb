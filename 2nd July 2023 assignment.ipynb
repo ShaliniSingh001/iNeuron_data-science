{
 "cells": [
  {
   "cell_type": "markdown",
   "id": "5e27fccb",
   "metadata": {},
   "source": [
    "# 1. Explain what inheritance is in object-oriented programming and why it is used."
   ]
  },
  {
   "cell_type": "markdown",
   "id": "9f758c7c",
   "metadata": {},
   "source": [
    "ans.A inheritance is the concept in oops in which one class inherits the attributes and methods of another class."
   ]
  },
  {
   "cell_type": "markdown",
   "id": "e4dcb06d",
   "metadata": {},
   "source": [
    "# 2. Discuss the concept of single inheritance and multiple inheritance, highlighting their differences and advantages."
   ]
  },
  {
   "cell_type": "markdown",
   "id": "b05bb537",
   "metadata": {},
   "source": [
    " Ans:-\n",
    "    In the case of single inheritance, the derived class performs the inheritance of a single base class. In the case of multiple inheritance, the derived class can acquire multiple base classes. \n",
    "    The derived classes can utilize the features that belong to a single base class.\n",
    "    \n",
    "    Advantages of Single Inheritance:\n",
    "\n",
    "Simplicity: Single inheritance simplifies the class hierarchy, making it easier to understand and manage relationships between classes.\n",
    "Avoiding Diamond Problem: The Diamond Problem is a challenge that arises in multiple inheritance when a class inherits from two or more classes that have a common superclass. This can lead to confusion and ambiguity in method and attribute resolution. Single inheritance eliminates the Diamond Problem altogether.\n",
    "Multiple Inheritance:\n",
    "In multiple inheritance, a class can inherit properties and behaviors from more than one superclass. This approach allows for greater code reuse by enabling a class to inherit from multiple sources. However, it also introduces complexities related to method and attribute resolution when multiple parent classes define the same methods or attributes.\n",
    "\n",
    "Advantages of Multiple Inheritance:\n",
    "\n",
    "Code Reusability: Multiple inheritance allows a class to inherit features from multiple parent classes, facilitating a higher degree of code reuse.\n",
    "Mixins and Interfaces: Multiple inheritance can be used to create mixins or interfaces. Mixins are classes that provide a specific set of behaviors that can be added to multiple classes, enhancing modularity.\n",
    "Rich Class Design: Multiple inheritance can lead to more feature-rich class designs by combining attributes and behaviors from different sources.\n",
    "Differences:\n",
    "\n",
    "Number of Superclasses: The primary difference between single and multiple inheritance is the number of superclasses a class can inherit from. Single inheritance allows only one superclass, while multiple inheritance allows more than one.\n",
    "\n",
    "Ambiguity and Complexity: Multiple inheritance can lead to ambiguity when parent classes define the same methods or attributes. This requires careful method resolution mechanisms to determine which method is called. Single inheritance avoids such ambiguity by allowing only one direct parent.\n",
    "\n",
    "Diamond Problem: As mentioned earlier, the Diamond Problem is specific to multiple inheritance, where conflicts arise due to shared ancestor classes. Single inheritance inherently avoids the Diamond Problem.\n",
    "    "
   ]
  },
  {
   "cell_type": "markdown",
   "id": "ad5d79f9",
   "metadata": {},
   "source": [
    "# 3. Explain the terms \"base class\" and \"derived class\" in the context of inheritance."
   ]
  },
  {
   "cell_type": "code",
   "execution_count": null,
   "id": "72033787",
   "metadata": {},
   "outputs": [],
   "source": [
    "Ans-\n",
    " class Animal:  # Base class\n",
    "    def speak(self):\n",
    "        pass\n",
    "\n",
    "class Dog(Animal):  # Derived class\n",
    "    def speak(self):\n",
    "        return \"Woof!\"\n",
    "\n",
    "class Cat(Animal):  # Derived class\n",
    "    def speak(self):\n",
    "        return \"Meow!\"\n",
    "    \n",
    "In this example, Animal is the base class with a method speak(), and Dog and Cat are derived classes that inherit the speak() method.\n",
    "Each derived class provides its own implementation of the speak() method."
   ]
  },
  {
   "cell_type": "markdown",
   "id": "6d139469",
   "metadata": {},
   "source": [
    "# 4. What is the significance of the \"protected\" access modifier in inheritance? How does it differ from \"private\" and \"public\" modifiers?"
   ]
  },
  {
   "cell_type": "markdown",
   "id": "d16db5be",
   "metadata": {},
   "source": [
    "Ans-:In object-oriented programming (OOP), access modifiers are keywords that control the visibility and accessibility of class members (attributes and methods) in different parts of the code. The three main access modifiers are \"private,\" \"protected,\" and \"public.\" \n",
    "Each modifier has a specific role in determining which parts of the code can access class members. The significance of the \"protected\" access modifier in inheritance is related to how it balances encapsulation and code reusability.\n",
    "\n",
    "1. Private Access Modifier:\n",
    "Members marked as \"private\" are only accessible within the same class where they are declared.\n",
    "They are not accessible in derived classes, meaning that subclasses cannot directly access or override private members of the parent class.\n",
    "Private members are used for internal implementation details that should not be exposed or modified from outside the class.\n",
    "\n",
    "\n",
    "2. Protected Access Modifier:\n",
    "Members marked as \"protected\" are accessible within the same class and its subclasses (derived classes).\n",
    "Protected members can be inherited by subclasses, allowing them to access or override those members.\n",
    "This modifier strikes a balance between encapsulation and reusability. It allows derived classes to build upon the behavior of the base class while still maintaining some level of control over access.\n",
    "\n",
    "\n",
    "3. Public Access Modifier:\n",
    "Members marked as \"public\" are accessible from anywhere in the program, both within and outside the class.\n",
    "Public members are freely accessible and modifiable, which can lead to more flexible and customizable behavior.\n",
    "However, exposing too many details as public members can lead to issues in terms of encapsulation and maintaining the in"
   ]
  },
  {
   "cell_type": "markdown",
   "id": "d624637d",
   "metadata": {},
   "source": [
    "#  5. What is the purpose of the \"super\" keyword in inheritance? Provide an example."
   ]
  },
  {
   "cell_type": "markdown",
   "id": "f48a9041",
   "metadata": {},
   "source": [
    "Ans.The \"super\" keyword is used in object-oriented programming to refer to the immediate parent class of a subclass. \n",
    "It is primarily used to access and call methods or constructors defined in the parent class, allowing for code reuse and customization in the context of inheritance.\n",
    "\n",
    "The \"super\" keyword is especially useful when you want to extend or override methods from the parent class while still retaining some of their original functionality. \n",
    "It provides a way to access the methods and attributes of the parent class without ambiguity, even if the subclass has o"
   ]
  },
  {
   "cell_type": "markdown",
   "id": "5983d89d",
   "metadata": {},
   "source": [
    "# 6. Create a base class called \"Vehicle\" with attributes like \"make\", \"model\", and \"year\".Then, create a derived class called \"Car\" that inherits from \"Vehicle\" and adds an attribute called \"fuel_type\". Implement appropriate methods in both classes."
   ]
  },
  {
   "cell_type": "code",
   "execution_count": 1,
   "id": "cb3de4dc",
   "metadata": {},
   "outputs": [],
   "source": [
    "class vehicle:\n",
    "    def __init__(self,make,model,year):\n",
    "        self.make=make\n",
    "        self.model=model\n",
    "        self.year=year\n",
    "        \n",
    "class car(vehicle):\n",
    "    def __init__(self,make,model,year,fuel_type):\n",
    "        super().__init__(make,model,year)\n",
    "        self.fuel_type=fuel_type\n",
    "        \n",
    "    def display_info(self):\n",
    "        print(f\"This car made by {self.make}.\")\n",
    "        print(f\"This car model is {self.model}.\")\n",
    "        print(f\"This car made year is {self.year}.\")\n",
    "        print(f\"This car fuel type is {self.fuel_type}.\")"
   ]
  },
  {
   "cell_type": "code",
   "execution_count": 2,
   "id": "b4a3ca39",
   "metadata": {},
   "outputs": [],
   "source": [
    "c=car('i20','hyundai',2023,'petrol')"
   ]
  },
  {
   "cell_type": "code",
   "execution_count": 4,
   "id": "83a6f9f4",
   "metadata": {},
   "outputs": [
    {
     "name": "stdout",
     "output_type": "stream",
     "text": [
      "This car made by i20.\n",
      "This car model is hyundai.\n",
      "This car made year is 2023.\n",
      "This car fuel type is petrol.\n"
     ]
    }
   ],
   "source": [
    "c.display_info()"
   ]
  },
  {
   "cell_type": "markdown",
   "id": "8787a9df",
   "metadata": {},
   "source": [
    "# 7. Create a base class called \"Employee\" with attributes like \"name\" and \"salary.\" Derive two classes, \"Manager\" and \"Developer,\" from \"Employee.\" Add an additional attribute called \"department\" for the \"Manager\" class and \"programming_language\" for the \"Developer\" class."
   ]
  },
  {
   "cell_type": "code",
   "execution_count": 7,
   "id": "5ad72542",
   "metadata": {},
   "outputs": [
    {
     "name": "stdout",
     "output_type": "stream",
     "text": [
      "Employee name is mohan.\n",
      "mohan salary is 200000.\n",
      "mohan  is from medical department.\n"
     ]
    }
   ],
   "source": [
    "class Employee:\n",
    "    def __init__(self,name,salary):\n",
    "        self.name=name\n",
    "        self.salary=salary\n",
    "    \n",
    "    \n",
    "class Manager(Employee):\n",
    "    def __init__(self,name,salary,department):\n",
    "        super().__init__(name,salary)\n",
    "        self.department=department\n",
    "        \n",
    "    def manager_info(self):\n",
    "        print(f\"Employee name is {self.name}.\")\n",
    "        print(f\"{self.name} salary is {self.salary}.\")\n",
    "        print(f\"{self.name}  is from {self.department} department.\")\n",
    "        \n",
    "        \n",
    "        \n",
    "class Developer(Employee):\n",
    "    def __init__(self,name,salary,programming_lang):\n",
    "        super().__init__(name,salary)\n",
    "        self.programming_lang=programming_lang\n",
    "        \n",
    "        \n",
    "    def developer_info(self):\n",
    "        print(f\"Employee name is {self.name}.\")\n",
    "        print(f\"{self.name} salary is {self.salary}.\")\n",
    "        print(f\"{self.name} knows {self.programming_lang} language.\")\n",
    "     \n",
    "        \n",
    "m=Manager(\"mohan\",200000,\"medical\")\n",
    "m.manager_info()"
   ]
  },
  {
   "cell_type": "code",
   "execution_count": 9,
   "id": "ade1b67c",
   "metadata": {},
   "outputs": [
    {
     "name": "stdout",
     "output_type": "stream",
     "text": [
      "Employee name is ram.\n",
      "ram salary is 50000.\n",
      "ram knows python language.\n"
     ]
    }
   ],
   "source": [
    "d=Developer(\"ram\",50000,\"python\")\n",
    "d.developer_info()"
   ]
  },
  {
   "cell_type": "markdown",
   "id": "656e93b5",
   "metadata": {},
   "source": [
    "# 8. Design a base class called \"Shape\" with attributes like \"colour\" and \"border_width.\" Create derived classes, \"Rectangle\" and \"Circle,\" that inherit from \"Shape\" and add specific attributes like \"length\" and \"width\" for the \"Rectangle\" class and \"radius\" for the \"Circle\" class."
   ]
  },
  {
   "cell_type": "code",
   "execution_count": 13,
   "id": "63f0d83c",
   "metadata": {},
   "outputs": [
    {
     "name": "stdout",
     "output_type": "stream",
     "text": [
      "Rectangle colour is: red.\n",
      "border_widgth is: 2.5.\n",
      "Rectangle length is: 5.\n",
      "Rectangle widgth is :6.\n",
      "circle colour is: blue.\n",
      "Border width is: 5.\n",
      "Circle redius is: 56.\n"
     ]
    }
   ],
   "source": [
    "class Shape:\n",
    "    def __init__(self,colour,border_width):\n",
    "        self.colour=colour\n",
    "        self.border_width=border_width\n",
    "        \n",
    "        \n",
    "class Rectangle(Shape):\n",
    "    def __init__(self,colour,border_width,length,width):\n",
    "        super().__init__(colour,border_width)\n",
    "        self.length=length\n",
    "        self.width=width\n",
    "        \n",
    "        \n",
    "    def rectangle_info(self):\n",
    "        print(f\"Rectangle colour is: {self.colour}.\")\n",
    "        print(f\"border_widgth is: {self.border_width}.\")\n",
    "        print(f\"Rectangle length is: { self.length}.\")\n",
    "        print(f\"Rectangle widgth is :{self.width}.\")\n",
    "        \n",
    "        \n",
    "        \n",
    "class Circle(Shape):\n",
    "    def __init__(self,colour,border_width,redius):\n",
    "        super().__init__(colour,border_width)\n",
    "        self.redius=redius\n",
    "        \n",
    "        \n",
    "        \n",
    "    def circle_info(self):\n",
    "        print(f\"circle colour is: {self.colour}.\")\n",
    "        print(f\"Border width is: {self.border_width}.\")\n",
    "        print(f\"Circle redius is: {self.redius}.\")\n",
    "r=Rectangle(\"red\",2.5,5,6)\n",
    "r.rectangle_info()\n",
    "\n",
    "c=Circle(\"blue\",5,56)\n",
    "c.circle_info()"
   ]
  },
  {
   "cell_type": "markdown",
   "id": "3f376a01",
   "metadata": {},
   "source": [
    "# 9. Create a base class called \"Device\" with attributes like \"brand\" and \"model.\" Derive two classes, \"Phone\" and \"Tablet,\" from \"Device.\" Add specific attributes like \"screen_size\" for the \"Phone\" class and \"battery_capacity\" for the \"Tablet\" class."
   ]
  },
  {
   "cell_type": "code",
   "execution_count": 16,
   "id": "810d206b",
   "metadata": {},
   "outputs": [
    {
     "name": "stdout",
     "output_type": "stream",
     "text": [
      "This phone is from apple and the model is iphone14.\n",
      "Phone screen size is : 5.4.\n",
      "This tablet is from lenovo and the model is core i5.\n",
      "Battery capacity of this tablet is 10 hours.\n"
     ]
    }
   ],
   "source": [
    "class Device:\n",
    "    def __init__(self,brand,model):\n",
    "        self.brand=brand\n",
    "        self.model=model\n",
    "        \n",
    "        \n",
    "        \n",
    "class Phone(Device):\n",
    "    def __init__(self,brand,model,screen_size):\n",
    "        super().__init__(brand,model)\n",
    "        self.screen_size=screen_size\n",
    "        \n",
    "        \n",
    "    def phone_info(self):\n",
    "        print(f\"This phone is from {self.brand} and the model is {self.model}.\")\n",
    "        print(f\"Phone screen size is : {self.screen_size}.\")\n",
    "        \n",
    "        \n",
    "class Tablet(Device):\n",
    "    def __init__(self,brand,model,battery_capacity):\n",
    "        super().__init__(brand,model)\n",
    "        self.battery_capacity=battery_capacity\n",
    "        \n",
    "        \n",
    "    def tablet_info(self):\n",
    "        print(f\"This tablet is from {self.brand} and the model is {self.model}.\")\n",
    "        print(f\"Battery capacity of this tablet is {self.battery_capacity}.\")\n",
    "        \n",
    "        \n",
    "p1=Phone(\"apple\",\"iphone14\",5.4)\n",
    "p1.phone_info()\n",
    "\n",
    "t1=Tablet(\"lenovo\",\"core i5\", \"10 hours\")\n",
    "t1.tablet_info()"
   ]
  },
  {
   "cell_type": "markdown",
   "id": "f8dfff1f",
   "metadata": {},
   "source": [
    "# 10. Create a base class called \"BankAccount\" with attributes like \"account_number\" and \"balance.\" Derive two classes, \"SavingsAccount\" and \"Checking Account,\" from \"BankAccount.\" Add specific methods like \"calculate_interest\" for the \"SavingsAccount\" class and \"deduct_fees\" for the \"CheckingAccount\" class."
   ]
  },
  {
   "cell_type": "code",
   "execution_count": 17,
   "id": "9f9c145e",
   "metadata": {},
   "outputs": [
    {
     "name": "stdout",
     "output_type": "stream",
     "text": [
      "your total intrest is : 100.0\n",
      "Deducted fee for checking account activity is : 10.0.\n"
     ]
    }
   ],
   "source": [
    "class Bank:\n",
    "    def __init__(self,account_number,balance):\n",
    "        self.account_number=account_number\n",
    "        self.balance=balance\n",
    "        \n",
    "        \n",
    "        \n",
    "        \n",
    "class SavingAccount(Bank):\n",
    "    def __init__(self,account_number,balance):\n",
    "        super().__init__(account_number,balance)\n",
    "        \n",
    "    def calculate_intrest(self):\n",
    "        self.balance= (self.balance*10)/100\n",
    "        print(f\"your total intrest is : {self.balance}\")\n",
    "        \n",
    "        \n",
    "        \n",
    "        \n",
    "        \n",
    "class CheckingAccount(Bank):\n",
    "    def __init__(self,account_number,balance):\n",
    "        super().__init__(account_number,balance)\n",
    "        \n",
    "        \n",
    "        \n",
    "    def deduct_fees(self):\n",
    "        self.balance=(self.balance*0.1)/100\n",
    "        print(f\"Deducted fee for checking account activity is : {self.balance}.\")\n",
    "              \n",
    "        \n",
    "    \n",
    "        \n",
    "        \n",
    "        \n",
    "sav=SavingAccount(12345,1000)\n",
    "sav.calculate_intrest()\n",
    "\n",
    "check=CheckingAccount(123456,10000)\n",
    "check.deduct_fees()"
   ]
  },
  {
   "cell_type": "code",
   "execution_count": null,
   "id": "2a3ea735",
   "metadata": {},
   "outputs": [],
   "source": []
  }
 ],
 "metadata": {
  "kernelspec": {
   "display_name": "Python 3 (ipykernel)",
   "language": "python",
   "name": "python3"
  },
  "language_info": {
   "codemirror_mode": {
    "name": "ipython",
    "version": 3
   },
   "file_extension": ".py",
   "mimetype": "text/x-python",
   "name": "python",
   "nbconvert_exporter": "python",
   "pygments_lexer": "ipython3",
   "version": "3.10.9"
  }
 },
 "nbformat": 4,
 "nbformat_minor": 5
}
