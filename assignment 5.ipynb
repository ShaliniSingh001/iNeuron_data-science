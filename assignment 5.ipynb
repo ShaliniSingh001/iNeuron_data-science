{
 "cells": [
  {
   "cell_type": "markdown",
   "id": "0ff922f8",
   "metadata": {},
   "source": [
    " # 1. What does an empty dictionary&#39;s code look like?"
   ]
  },
  {
   "cell_type": "code",
   "execution_count": 1,
   "id": "4910bcfc",
   "metadata": {},
   "outputs": [
    {
     "data": {
      "text/plain": [
       "dict"
      ]
     },
     "execution_count": 1,
     "metadata": {},
     "output_type": "execute_result"
    }
   ],
   "source": [
    "b = {}\n",
    "type(b)"
   ]
  },
  {
   "cell_type": "markdown",
   "id": "7ab937d3",
   "metadata": {},
   "source": [
    "   # 2. What is the value of a dictionary value with the key &#39;foo&#39; and the value 42?"
   ]
  },
  {
   "cell_type": "code",
   "execution_count": 2,
   "id": "b3dc9c04",
   "metadata": {},
   "outputs": [
    {
     "name": "stdout",
     "output_type": "stream",
     "text": [
      "{'foo': 42}\n"
     ]
    }
   ],
   "source": [
    "d = {\"foo\":42}\n",
    "print(d)"
   ]
  },
  {
   "cell_type": "markdown",
   "id": "49a7ac3d",
   "metadata": {},
   "source": [
    "# 3. What is the most significant distinction between a dictionary and a list? "
   ]
  },
  {
   "cell_type": "markdown",
   "id": "0904ae1e",
   "metadata": {},
   "source": [
    " Ans. List : list is a collection of index values pairs,list is ordered.\n",
    " Dictionary: Dictionary is a collection of key and value pairs Dictionary is unordered"
   ]
  },
  {
   "cell_type": "markdown",
   "id": "8d8c0a8c",
   "metadata": {},
   "source": [
    "# 4. What happens if you try to access spam[&#39;foo&#39;] if spam is {&#39;bar&#39;: 100}?"
   ]
  },
  {
   "cell_type": "code",
   "execution_count": 5,
   "id": "099e7fdf",
   "metadata": {},
   "outputs": [
    {
     "ename": "KeyError",
     "evalue": "'foo'",
     "output_type": "error",
     "traceback": [
      "\u001b[1;31m---------------------------------------------------------------------------\u001b[0m",
      "\u001b[1;31mKeyError\u001b[0m                                  Traceback (most recent call last)",
      "Cell \u001b[1;32mIn[5], line 2\u001b[0m\n\u001b[0;32m      1\u001b[0m spam \u001b[38;5;241m=\u001b[39m{\u001b[38;5;124m'\u001b[39m\u001b[38;5;124mbar\u001b[39m\u001b[38;5;124m'\u001b[39m: \u001b[38;5;241m100\u001b[39m}\n\u001b[1;32m----> 2\u001b[0m \u001b[43mspam\u001b[49m\u001b[43m[\u001b[49m\u001b[38;5;124;43m'\u001b[39;49m\u001b[38;5;124;43mfoo\u001b[39;49m\u001b[38;5;124;43m'\u001b[39;49m\u001b[43m]\u001b[49m\n",
      "\u001b[1;31mKeyError\u001b[0m: 'foo'"
     ]
    }
   ],
   "source": [
    "spam ={'bar': 100}\n",
    "spam['foo']"
   ]
  },
  {
   "cell_type": "markdown",
   "id": "56ba3c38",
   "metadata": {},
   "source": [
    "# 5. If a dictionary is stored in spam, what is the difference between the expressions &#39;cat&#39; in spam and &#39;cat&#39; in spam.keys()?"
   ]
  },
  {
   "cell_type": "code",
   "execution_count": 8,
   "id": "cf3cc7d9",
   "metadata": {},
   "outputs": [
    {
     "data": {
      "text/plain": [
       "True"
      ]
     },
     "execution_count": 8,
     "metadata": {},
     "output_type": "execute_result"
    }
   ],
   "source": [
    "spam = {'cat':100}\n",
    "'cat'in spam"
   ]
  },
  {
   "cell_type": "code",
   "execution_count": 9,
   "id": "5af305e2",
   "metadata": {},
   "outputs": [
    {
     "data": {
      "text/plain": [
       "True"
      ]
     },
     "execution_count": 9,
     "metadata": {},
     "output_type": "execute_result"
    }
   ],
   "source": [
    "'cat' in spam.keys()"
   ]
  },
  {
   "cell_type": "markdown",
   "id": "9c6ab415",
   "metadata": {},
   "source": [
    "both will cheak if 'cat'is one key of the dictionary and if its a key.it will return true."
   ]
  },
  {
   "cell_type": "markdown",
   "id": "7a89d4ec",
   "metadata": {},
   "source": [
    "# 6. If a dictionary is stored in spam, what is the difference between the expressions &#39;cat&#39; in spam and &#39;cat&#39; in spam.values()?"
   ]
  },
  {
   "cell_type": "code",
   "execution_count": 11,
   "id": "762f6986",
   "metadata": {},
   "outputs": [
    {
     "data": {
      "text/plain": [
       "True"
      ]
     },
     "execution_count": 11,
     "metadata": {},
     "output_type": "execute_result"
    }
   ],
   "source": [
    "spam ={'cat':100}\n",
    "'cat'in spam"
   ]
  },
  {
   "cell_type": "code",
   "execution_count": 12,
   "id": "f04f0880",
   "metadata": {},
   "outputs": [
    {
     "data": {
      "text/plain": [
       "False"
      ]
     },
     "execution_count": 12,
     "metadata": {},
     "output_type": "execute_result"
    }
   ],
   "source": [
    "spam = {'cat':100}\n",
    "'cat' in spam.values()"
   ]
  },
  {
   "cell_type": "markdown",
   "id": "722df274",
   "metadata": {},
   "source": [
    "# 7. What is a shortcut for the following code? if &#39;color&#39; not in spam: spam[&#39;color&#39;] = &#39;black&#39;"
   ]
  },
  {
   "cell_type": "code",
   "execution_count": 13,
   "id": "878fc229",
   "metadata": {},
   "outputs": [
    {
     "name": "stdout",
     "output_type": "stream",
     "text": [
      "{'cat': 100, 'color': 'black'}\n"
     ]
    }
   ],
   "source": [
    "if 'color' not in spam:\n",
    "    spam['color'] = 'black'\n",
    "print(spam)    "
   ]
  },
  {
   "cell_type": "code",
   "execution_count": 16,
   "id": "4bd4df2d",
   "metadata": {},
   "outputs": [
    {
     "data": {
      "text/plain": [
       "{'cat': 100, 'color': 'black'}"
      ]
     },
     "execution_count": 16,
     "metadata": {},
     "output_type": "execute_result"
    }
   ],
   "source": [
    "spam = {'cat':100}\n",
    "spam.setdefault('color','black')\n",
    "spam"
   ]
  },
  {
   "cell_type": "markdown",
   "id": "42d416fe",
   "metadata": {},
   "source": [
    "# 8. How do you &quot;pretty print&quot; dictionary values using which module and function?"
   ]
  },
  {
   "cell_type": "code",
   "execution_count": 24,
   "id": "fa8442e1",
   "metadata": {},
   "outputs": [
    {
     "name": "stdout",
     "output_type": "stream",
     "text": [
      "[{'age': '25', 'name': 'gargi', 'occupation': 'manager'},\n",
      " {'age': '20', 'name': 'shalu', 'occupation': 'principal'},\n",
      " {'age': '27', 'name': 'shivi', 'occupation': 'banker'},\n",
      " {'age': '30', 'name': 'alice', 'occupation': 'senior manager'}]\n"
     ]
    }
   ],
   "source": [
    "import pprint\n",
    "dict = [  {'name': 'gargi','age':'25','occupation':'manager'},\n",
    "       {'name':'shalu','age':'20','occupation':'principal'},\n",
    "       {'name':'shivi','age':'27','occupation':'banker'},\n",
    "       {'name':'alice','age':'30','occupation':'senior manager'}\n",
    "]\n",
    "pprint.pprint(dict)"
   ]
  },
  {
   "cell_type": "code",
   "execution_count": 25,
   "id": "4523a2ee",
   "metadata": {},
   "outputs": [
    {
     "name": "stdout",
     "output_type": "stream",
     "text": [
      "[{'name': 'gargi', 'age': '25', 'occupation': 'manager'}, {'name': 'shalu', 'age': '20', 'occupation': 'principal'}, {'name': 'shivi', 'age': '27', 'occupation': 'banker'}, {'name': 'alice', 'age': '30', 'occupation': 'senior manager'}]\n"
     ]
    }
   ],
   "source": [
    "print(dict)"
   ]
  },
  {
   "cell_type": "code",
   "execution_count": null,
   "id": "ce8459ca",
   "metadata": {},
   "outputs": [],
   "source": []
  },
  {
   "cell_type": "code",
   "execution_count": null,
   "id": "9449c027",
   "metadata": {},
   "outputs": [],
   "source": []
  }
 ],
 "metadata": {
  "kernelspec": {
   "display_name": "Python 3 (ipykernel)",
   "language": "python",
   "name": "python3"
  },
  "language_info": {
   "codemirror_mode": {
    "name": "ipython",
    "version": 3
   },
   "file_extension": ".py",
   "mimetype": "text/x-python",
   "name": "python",
   "nbconvert_exporter": "python",
   "pygments_lexer": "ipython3",
   "version": "3.10.9"
  }
 },
 "nbformat": 4,
 "nbformat_minor": 5
}
