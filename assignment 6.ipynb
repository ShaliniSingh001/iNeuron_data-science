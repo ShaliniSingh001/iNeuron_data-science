{
 "cells": [
  {
   "cell_type": "markdown",
   "id": "f7538daf",
   "metadata": {},
   "source": [
    "# Q.1. What are keywords in python? Using the keyword library, print all the python keywords."
   ]
  },
  {
   "cell_type": "markdown",
   "id": "297dc942",
   "metadata": {},
   "source": [
    "ans. In Python, keywords are reserved words that have special meanings and purposes within the language. \n",
    "These keywords cannot be used as variable names or identifiers because they are part of the language \n",
    "syntax.\n",
    "\n",
    "To print all the Python keywords, you can use the keyword module. Here's an example:\n"
   ]
  },
  {
   "cell_type": "code",
   "execution_count": 2,
   "id": "54cb29da",
   "metadata": {},
   "outputs": [
    {
     "name": "stdout",
     "output_type": "stream",
     "text": [
      "['False', 'None', 'True', 'and', 'as', 'assert', 'async', 'await', 'break', 'class', 'continue', 'def', 'del', 'elif', 'else', 'except', 'finally', 'for', 'from', 'global', 'if', 'import', 'in', 'is', 'lambda', 'nonlocal', 'not', 'or', 'pass', 'raise', 'return', 'try', 'while', 'with', 'yield']\n"
     ]
    }
   ],
   "source": [
    "import keyword\n",
    "print (keyword.kwlist)"
   ]
  },
  {
   "cell_type": "markdown",
   "id": "cb367347",
   "metadata": {},
   "source": [
    " # Q.2. What are the rules to create variables in python?"
   ]
  },
  {
   "cell_type": "markdown",
   "id": "39748550",
   "metadata": {},
   "source": [
    "   ans. In Python, variables are used to store and manipulate data. Here are the rules for creating \n",
    "    variables in Python:\n",
    "    \n",
    "  1.Variable names must start with a letter (a-z, A-Z) or an underscore (_). They cannot start with a \n",
    "    number or any other special character.\n",
    "    \n",
    " 2.Variable names are case-sensitive. For example, myVariable,myvariable, and MYVARIABLE are \n",
    "     considered different variables.\n",
    "\n",
    "  3.Variable names can contain letters, numbers, and underscores. They cannot contain spaces or  \n",
    "     special characters such as !, @, # , $, %, etc.\n",
    "\n",
    "    Here are a few examples of valid variable names in Python:\n",
    "    name\n",
    "    age\n",
    "    total_count\n",
    "    is_logged_in\n",
    "    _my_variable\n",
    "\n",
    "\n",
    "    And here are some examples of invalid variable names:\n",
    "    \n",
    "    2myvar = \"john\"\n",
    "    my-var = \"john\"\n",
    "    my var = \"john\""
   ]
  },
  {
   "cell_type": "markdown",
   "id": "d4195408",
   "metadata": {},
   "source": [
    "# Q.3. What are the standards and conventions followed for the nomenclature of variables in python to improve code readability and maintainability?"
   ]
  },
  {
   "cell_type": "markdown",
   "id": "33885d3e",
   "metadata": {},
   "source": [
    "    \n",
    "    In Python names are used as identifiers of functions, classes, variables, etc…. \n",
    "    Identifiers must start with a Letter (A-Z) or an underscore (\"_\"), followed by more letters or          numbers. \n",
    "    Python does not allow characters such as @, $, and % within identifier names. Python is case           sensitive"
   ]
  },
  {
   "cell_type": "markdown",
   "id": "0151cde9",
   "metadata": {},
   "source": [
    " # Q.4. What will happen if a keyword is used as a variable name?"
   ]
  },
  {
   "cell_type": "markdown",
   "id": "27060f56",
   "metadata": {},
   "source": [
    "    ans.We cannot use a keyword as a variable name, function name, or any other identifier. \n",
    "    They are used to define the syntax and structure of the Python language.\n",
    "    All the keywords except True , False and None are in lowercase and they must be written as\n",
    "    they are."
   ]
  },
  {
   "cell_type": "code",
   "execution_count": 4,
   "id": "432bce81",
   "metadata": {},
   "outputs": [
    {
     "ename": "SyntaxError",
     "evalue": "invalid syntax (3331723146.py, line 1)",
     "output_type": "error",
     "traceback": [
      "\u001b[1;36m  Cell \u001b[1;32mIn[4], line 1\u001b[1;36m\u001b[0m\n\u001b[1;33m    if = 45\u001b[0m\n\u001b[1;37m       ^\u001b[0m\n\u001b[1;31mSyntaxError\u001b[0m\u001b[1;31m:\u001b[0m invalid syntax\n"
     ]
    }
   ],
   "source": [
    "if = 45"
   ]
  },
  {
   "cell_type": "code",
   "execution_count": 6,
   "id": "89322d34",
   "metadata": {},
   "outputs": [
    {
     "ename": "SyntaxError",
     "evalue": "invalid syntax (19473640.py, line 1)",
     "output_type": "error",
     "traceback": [
      "\u001b[1;36m  Cell \u001b[1;32mIn[6], line 1\u001b[1;36m\u001b[0m\n\u001b[1;33m    return=5\u001b[0m\n\u001b[1;37m          ^\u001b[0m\n\u001b[1;31mSyntaxError\u001b[0m\u001b[1;31m:\u001b[0m invalid syntax\n"
     ]
    }
   ],
   "source": [
    "return=5"
   ]
  },
  {
   "cell_type": "markdown",
   "id": "561c3648",
   "metadata": {},
   "source": [
    "# Q.5. For what purpose def keyword is used?"
   ]
  },
  {
   "cell_type": "markdown",
   "id": "a958c4a5",
   "metadata": {},
   "source": [
    "    ans.In Python, the def keyword is used to define a function. Functions are blocks of reusable code \n",
    "    that perform specific tasks. By using the def keyword, you can define your own functions and give \n",
    "    them a name.Here's the general syntax for defining a function using the def keyword:"
   ]
  },
  {
   "cell_type": "markdown",
   "id": "af5a9bb8",
   "metadata": {},
   "source": [
    "def function_name(arguments):\n",
    "    # Function body\n",
    "    # Code that defines the functionality of the function\n",
    "    # May include statements, calculations, loops, conditionals, etc.\n",
    "    # Optionally, the function may return a value using the return statement"
   ]
  },
  {
   "cell_type": "markdown",
   "id": "f4031823",
   "metadata": {},
   "source": [
    " def: This keyword is used to indicate the start of a function definition.\n",
    "\n",
    " function_name: This is the name you give to your function. It should follow the variable naming conventions and be descriptive of the function's purpose.\n",
    "\n",
    " arguments: These are optional parameters that you can pass to the function. They represent values that the function may require to perform its task. Arguments are enclosed within parentheses and can be used inside the function's body.\n",
    "\n",
    " Function Body: This is the block of code that defines the functionality of the function. It consists of one or more statements that are indented under the def line. This code will be executed whenever the function is called.\n",
    "\n",
    " return statement (optional): If the function needs to return a value or a result, you can use the return statement. This statement specifies the value to be returned from the function to the caller. If there is no return statement, the function returns None by default."
   ]
  },
  {
   "cell_type": "markdown",
   "id": "559ef254",
   "metadata": {},
   "source": [
    " Here's an example of a simple function definition that adds two numbers and returns the result:"
   ]
  },
  {
   "cell_type": "code",
   "execution_count": 9,
   "id": "87d82f68",
   "metadata": {},
   "outputs": [],
   "source": [
    "def add_numbers(a, b):\n",
    "    result = a + b\n",
    "    return result"
   ]
  },
  {
   "cell_type": "markdown",
   "id": "1cdad6b1",
   "metadata": {},
   "source": [
    " Once a function is defined using the def keyword, you can call it by using its name followed by      parentheses and passing any required arguments. For example:"
   ]
  },
  {
   "cell_type": "code",
   "execution_count": 10,
   "id": "6f21e964",
   "metadata": {},
   "outputs": [
    {
     "name": "stdout",
     "output_type": "stream",
     "text": [
      "8\n"
     ]
    }
   ],
   "source": [
    "sum_result = add_numbers(5, 3)\n",
    "print(sum_result)"
   ]
  },
  {
   "cell_type": "markdown",
   "id": "ea28157a",
   "metadata": {},
   "source": [
    "# Q.6. What is the operation of this special character ‘\\’?"
   ]
  },
  {
   "cell_type": "markdown",
   "id": "3c8281b0",
   "metadata": {},
   "source": [
    "ans. In Python strings, the backslash \"\\\" is a special character, also called the \"escape\" character. It is used in representing certain whitespace characters: \"\\t\" is a tab, \"\\n\" is a newline, and \"\\r\" is a carriage return. Conversely, prefixing a special character with \"\\\" turns it into an ordinary character.In Python strings, the backslash \"\\\" is a special character, also called the \"escape\" character. It is used in representing certain whitespace characters: \"\\t\" is a tab, \"\\n\" is a newline, and \"\\r\" is a carriage return. Conversely, prefixing a special character with \"\\\" turns it into an ordinary character."
   ]
  },
  {
   "cell_type": "markdown",
   "id": "d0d4dea1",
   "metadata": {},
   "source": [
    "# Q.7. Give an example of the following conditions:\n",
    " # (i) Homogeneous list\n",
    " # (ii) Heterogeneous set\n",
    "# (iii) Homogeneous tuple"
   ]
  },
  {
   "cell_type": "markdown",
   "id": "1bf7d8e4",
   "metadata": {},
   "source": [
    "ans. (i) Homogeneous list - that contains elements of the same data type. Here's an example of a homogeneous list that contains integers:\n",
    "\n",
    "my_list = [1, 2, 3, 4, 5]\n",
    "\n",
    "\n",
    "In this example, all the elements in the list my_list are integers, making it a homogeneous list."
   ]
  },
  {
   "cell_type": "markdown",
   "id": "2f7db179",
   "metadata": {},
   "source": [
    "(ii) Heterogeneous Set:\n",
    "A heterogeneous set is a set that contains elements of different data types. Here's an example of a heterogeneous set:\n",
    "\n",
    "my_set = {1, 'hello', 3.14, True}\n",
    "\n",
    "In this example, the set my_set contains elements of different data types, including an integer, a string, a float, and a boolean value. Therefore, it is a heterogeneous set"
   ]
  },
  {
   "cell_type": "markdown",
   "id": "0296183f",
   "metadata": {},
   "source": [
    "(iii) Homogeneous Tuple:\n",
    "A homogeneous tuple is a tuple that contains elements of the same data type. Here's an example of a homogeneous tuple that contains strings:\n",
    "\n",
    "\n",
    "my_tuple = ('apple', 'banana', 'cherry', 'date')\n",
    "\n",
    "In this example, all the elements in the tuple my_tuple are strings, making it a homogeneous tuple.\n",
    "\n"
   ]
  },
  {
   "cell_type": "markdown",
   "id": "1b95bab9",
   "metadata": {},
   "source": [
    "# Q.8. Explain the mutable and immutable data types with proper explanation & examples."
   ]
  },
  {
   "cell_type": "markdown",
   "id": "e2de03cb",
   "metadata": {},
   "source": [
    "In Python, data types can be classified as either mutable or immutable based on whether their values can be changed after they are created. Here's an explanation of mutable and immutable data types:\n",
    "\n",
    "Mutable Data Types:\n",
    "Mutable data types are those whose values can be modified after they are created. This means you can change, add, or remove elements within the data structure without creating a new instance of it. Some commonly used mutable data types in Python include lists, sets, and dictionaries.\n",
    "\n",
    "Example 1: Lists\n",
    "\n",
    "\n",
    "\n",
    "my_list = [1, 2, 3]\n",
    "my_list[0] = 10\n",
    "print(my_list)  # Output: [10, 2, 3]\n",
    "\n",
    "In this example, we modify the first element of the list my_list by assigning a new value to it (10), and the list is updated in place.\n",
    "\n",
    "Example 2: Dictionaries\n",
    "\n",
    "\n",
    "my_dict = {'name': 'John', 'age': 25}\n",
    "my_dict['age'] = 30\n",
    "print(my_dict)  # Output: {'name': 'John', 'age': 30}\n",
    "\n",
    "In this example, we change the value associated with the key 'age' in the dictionary my_dict from 25 to 30.\n",
    "\n",
    "Mutable data types are useful when you need to modify or update the data structure without creating a new object. However, it's important to keep in mind that modifications to mutable objects can lead to unexpected changes if the object is referenced or used in multiple places."
   ]
  },
  {
   "cell_type": "markdown",
   "id": "b7cbb38c",
   "metadata": {},
   "source": [
    "Immutable Data Types:\n",
    "Immutable data types are those whose values cannot be changed after they are created. If you need to modify an immutable object, you have to create a new object with the desired changes. Some common immutable data types in Python include strings, numbers (integers, floats), and tuples.\n",
    "\n",
    "Example 1: Strings\n",
    "\n",
    "\n",
    "my_string = 'Hello'\n",
    "# Attempting to change a character in the string will raise an error\n",
    "my_string[0] = 'J'  # TypeError: 'str' object does not support item assignment\n",
    "In this example, we try to change the first character of the string my_string to 'J', but it raises a TypeError because strings are immutable.\n",
    "\n",
    "Example 2: Tuples\n",
    "\n",
    "\n",
    "\n",
    "my_tuple = (1, 2, 3)\n",
    "# Attempting to change an element in the tuple will raise an error\n",
    "my_tuple[0] = 10  # TypeError: 'tuple' object does not support item assignment\n",
    "In this example, we attempt to change the first element of the tuple my_tuple to 10, but it raises a TypeError because tuples are immutable.\n",
    "\n",
    "Immutable data types are beneficial when you want to ensure that the data remains unchanged and avoid unintended modifications. They also allow for more efficient memory management since new objects don't need to be created for each modification."
   ]
  },
  {
   "cell_type": "markdown",
   "id": "3dbe6f5d",
   "metadata": {},
   "source": [
    "# Q.9. Write a code to create the given structure using only for loop.\n",
    "        *\n",
    "       ***\n",
    "      *****   \n",
    "     *******\n",
    "    *********"
   ]
  },
  {
   "cell_type": "code",
   "execution_count": 15,
   "id": "d02494b7",
   "metadata": {},
   "outputs": [
    {
     "name": "stdout",
     "output_type": "stream",
     "text": [
      "    *\n",
      "   ***\n",
      "  *****\n",
      " *******\n",
      "*********\n"
     ]
    }
   ],
   "source": [
    "for i in range(1, 6):\n",
    "    print(\" \" * (5 - i) + \"*\" * (2 * i - 1))"
   ]
  },
  {
   "cell_type": "markdown",
   "id": "0759eddf",
   "metadata": {},
   "source": [
    "# Q.10. Write a code to create the given structure using while loop.\n",
    "    |||||||||\n",
    "     |||||||\n",
    "      |||||\n",
    "       |||\n",
    "        |"
   ]
  },
  {
   "cell_type": "code",
   "execution_count": 14,
   "id": "d71fb6a4",
   "metadata": {},
   "outputs": [
    {
     "name": "stdout",
     "output_type": "stream",
     "text": [
      "|||||||||\n",
      " ||||||| \n",
      "  |||||  \n",
      "   |||   \n",
      "    |    \n"
     ]
    }
   ],
   "source": [
    "n = 9 \n",
    "i = n\n",
    "while i > 0:\n",
    "    print(f\"{i* '|':^{n}}\")\n",
    "    i -= 2"
   ]
  },
  {
   "cell_type": "code",
   "execution_count": null,
   "id": "40b65ca8",
   "metadata": {},
   "outputs": [],
   "source": []
  }
 ],
 "metadata": {
  "kernelspec": {
   "display_name": "Python 3 (ipykernel)",
   "language": "python",
   "name": "python3"
  },
  "language_info": {
   "codemirror_mode": {
    "name": "ipython",
    "version": 3
   },
   "file_extension": ".py",
   "mimetype": "text/x-python",
   "name": "python",
   "nbconvert_exporter": "python",
   "pygments_lexer": "ipython3",
   "version": "3.10.9"
  }
 },
 "nbformat": 4,
 "nbformat_minor": 5
}
